{
  "nbformat": 4,
  "nbformat_minor": 0,
  "metadata": {
    "colab": {
      "provenance": [],
      "collapsed_sections": [
        "ELKvNxoZbI2H"
      ],
      "gpuType": "T4",
      "mount_file_id": "1ReO0weKFjbt-XTSw_HaRrN0ZtH8szlEv",
      "authorship_tag": "ABX9TyMjfPgsMrXD8pfZL2fHKmKD",
      "include_colab_link": true
    },
    "kernelspec": {
      "name": "python3",
      "display_name": "Python 3"
    },
    "language_info": {
      "name": "python"
    },
    "accelerator": "GPU"
  },
  "cells": [
    {
      "cell_type": "markdown",
      "metadata": {
        "id": "view-in-github",
        "colab_type": "text"
      },
      "source": [
        "<a href=\"https://colab.research.google.com/github/EsraaMosaad/Practice_NLP/blob/main/step2_data_preprossing.ipynb\" target=\"_parent\"><img src=\"https://colab.research.google.com/assets/colab-badge.svg\" alt=\"Open In Colab\"/></a>"
      ]
    },
    {
      "cell_type": "code",
      "source": [
        "import pandas as pd"
      ],
      "metadata": {
        "id": "YbJss77ZkhRB"
      },
      "execution_count": 2,
      "outputs": []
    },
    {
      "cell_type": "code",
      "source": [
        "import nltk\n",
        "nltk.download('punkt')\n",
        "nltk.download('stopwords')\n",
        "nltk.download('wordnet')\n",
        "nltk.download('omw-1.4')\n",
        "from nltk.corpus import stopwords\n",
        "from textblob import Word"
      ],
      "metadata": {
        "colab": {
          "base_uri": "https://localhost:8080/"
        },
        "id": "G0eNEzgHnPeV",
        "outputId": "32b5ce90-476f-4233-989a-f0b4c01da25f"
      },
      "execution_count": 3,
      "outputs": [
        {
          "output_type": "stream",
          "name": "stderr",
          "text": [
            "[nltk_data] Downloading package punkt to /root/nltk_data...\n",
            "[nltk_data]   Unzipping tokenizers/punkt.zip.\n",
            "[nltk_data] Downloading package stopwords to /root/nltk_data...\n",
            "[nltk_data]   Unzipping corpora/stopwords.zip.\n",
            "[nltk_data] Downloading package wordnet to /root/nltk_data...\n",
            "[nltk_data] Downloading package omw-1.4 to /root/nltk_data...\n"
          ]
        }
      ]
    },
    {
      "cell_type": "code",
      "source": [
        "from google.colab import drive\n",
        "drive.mount('/content/drive',force_remount=True)"
      ],
      "metadata": {
        "colab": {
          "base_uri": "https://localhost:8080/"
        },
        "id": "9bQWUclEwgW0",
        "outputId": "a267bd33-5530-43b2-f931-42aefd786914"
      },
      "execution_count": 4,
      "outputs": [
        {
          "output_type": "stream",
          "name": "stdout",
          "text": [
            "Mounted at /content/drive\n"
          ]
        }
      ]
    },
    {
      "cell_type": "code",
      "source": [
        "!cp /content/drive/MyDrive/kaggle/kaggle.json ~/.kaggle/kaggle.json\n",
        "!chmod 600 ~/.kaggle/kaggle.json"
      ],
      "metadata": {
        "id": "M_yQoPqmpsFb"
      },
      "execution_count": 8,
      "outputs": []
    },
    {
      "cell_type": "code",
      "source": [
        "!kaggle datasets download -d gauravduttakiit/resume-dataset\n",
        "!unzip /content/resume-dataset.zip"
      ],
      "metadata": {
        "colab": {
          "base_uri": "https://localhost:8080/"
        },
        "id": "Pnl5EZ6Fpopt",
        "outputId": "c4bec946-ae18-42bc-aed3-70fd172c0021"
      },
      "execution_count": 9,
      "outputs": [
        {
          "output_type": "stream",
          "name": "stdout",
          "text": [
            "Downloading resume-dataset.zip to /content\n",
            "\r  0% 0.00/383k [00:00<?, ?B/s]\n",
            "\r100% 383k/383k [00:00<00:00, 139MB/s]\n",
            "Archive:  /content/resume-dataset.zip\n",
            "  inflating: UpdatedResumeDataSet.csv  \n"
          ]
        }
      ]
    },
    {
      "cell_type": "code",
      "source": [
        "cv_data=pd.read_csv(\"/content/UpdatedResumeDataSet.csv\")\n",
        "cv_data"
      ],
      "metadata": {
        "colab": {
          "base_uri": "https://localhost:8080/",
          "height": 423
        },
        "id": "XcATceCIpgNR",
        "outputId": "7eba85fe-d92e-414c-e267-cba6594e8cb9"
      },
      "execution_count": 10,
      "outputs": [
        {
          "output_type": "execute_result",
          "data": {
            "text/plain": [
              "         Category                                             Resume\n",
              "0    Data Science  Skills * Programming Languages: Python (pandas...\n",
              "1    Data Science  Education Details \\r\\nMay 2013 to May 2017 B.E...\n",
              "2    Data Science  Areas of Interest Deep Learning, Control Syste...\n",
              "3    Data Science  Skills â¢ R â¢ Python â¢ SAP HANA â¢ Table...\n",
              "4    Data Science  Education Details \\r\\n MCA   YMCAUST,  Faridab...\n",
              "..            ...                                                ...\n",
              "957       Testing  Computer Skills: â¢ Proficient in MS office (...\n",
              "958       Testing  â Willingness to accept the challenges. â ...\n",
              "959       Testing  PERSONAL SKILLS â¢ Quick learner, â¢ Eagerne...\n",
              "960       Testing  COMPUTER SKILLS & SOFTWARE KNOWLEDGE MS-Power ...\n",
              "961       Testing  Skill Set OS Windows XP/7/8/8.1/10 Database MY...\n",
              "\n",
              "[962 rows x 2 columns]"
            ],
            "text/html": [
              "\n",
              "  <div id=\"df-3103390c-bae8-4aba-b3e9-aec3d71fe230\">\n",
              "    <div class=\"colab-df-container\">\n",
              "      <div>\n",
              "<style scoped>\n",
              "    .dataframe tbody tr th:only-of-type {\n",
              "        vertical-align: middle;\n",
              "    }\n",
              "\n",
              "    .dataframe tbody tr th {\n",
              "        vertical-align: top;\n",
              "    }\n",
              "\n",
              "    .dataframe thead th {\n",
              "        text-align: right;\n",
              "    }\n",
              "</style>\n",
              "<table border=\"1\" class=\"dataframe\">\n",
              "  <thead>\n",
              "    <tr style=\"text-align: right;\">\n",
              "      <th></th>\n",
              "      <th>Category</th>\n",
              "      <th>Resume</th>\n",
              "    </tr>\n",
              "  </thead>\n",
              "  <tbody>\n",
              "    <tr>\n",
              "      <th>0</th>\n",
              "      <td>Data Science</td>\n",
              "      <td>Skills * Programming Languages: Python (pandas...</td>\n",
              "    </tr>\n",
              "    <tr>\n",
              "      <th>1</th>\n",
              "      <td>Data Science</td>\n",
              "      <td>Education Details \\r\\nMay 2013 to May 2017 B.E...</td>\n",
              "    </tr>\n",
              "    <tr>\n",
              "      <th>2</th>\n",
              "      <td>Data Science</td>\n",
              "      <td>Areas of Interest Deep Learning, Control Syste...</td>\n",
              "    </tr>\n",
              "    <tr>\n",
              "      <th>3</th>\n",
              "      <td>Data Science</td>\n",
              "      <td>Skills â¢ R â¢ Python â¢ SAP HANA â¢ Table...</td>\n",
              "    </tr>\n",
              "    <tr>\n",
              "      <th>4</th>\n",
              "      <td>Data Science</td>\n",
              "      <td>Education Details \\r\\n MCA   YMCAUST,  Faridab...</td>\n",
              "    </tr>\n",
              "    <tr>\n",
              "      <th>...</th>\n",
              "      <td>...</td>\n",
              "      <td>...</td>\n",
              "    </tr>\n",
              "    <tr>\n",
              "      <th>957</th>\n",
              "      <td>Testing</td>\n",
              "      <td>Computer Skills: â¢ Proficient in MS office (...</td>\n",
              "    </tr>\n",
              "    <tr>\n",
              "      <th>958</th>\n",
              "      <td>Testing</td>\n",
              "      <td>â Willingness to accept the challenges. â ...</td>\n",
              "    </tr>\n",
              "    <tr>\n",
              "      <th>959</th>\n",
              "      <td>Testing</td>\n",
              "      <td>PERSONAL SKILLS â¢ Quick learner, â¢ Eagerne...</td>\n",
              "    </tr>\n",
              "    <tr>\n",
              "      <th>960</th>\n",
              "      <td>Testing</td>\n",
              "      <td>COMPUTER SKILLS &amp; SOFTWARE KNOWLEDGE MS-Power ...</td>\n",
              "    </tr>\n",
              "    <tr>\n",
              "      <th>961</th>\n",
              "      <td>Testing</td>\n",
              "      <td>Skill Set OS Windows XP/7/8/8.1/10 Database MY...</td>\n",
              "    </tr>\n",
              "  </tbody>\n",
              "</table>\n",
              "<p>962 rows × 2 columns</p>\n",
              "</div>\n",
              "      <button class=\"colab-df-convert\" onclick=\"convertToInteractive('df-3103390c-bae8-4aba-b3e9-aec3d71fe230')\"\n",
              "              title=\"Convert this dataframe to an interactive table.\"\n",
              "              style=\"display:none;\">\n",
              "        \n",
              "  <svg xmlns=\"http://www.w3.org/2000/svg\" height=\"24px\"viewBox=\"0 0 24 24\"\n",
              "       width=\"24px\">\n",
              "    <path d=\"M0 0h24v24H0V0z\" fill=\"none\"/>\n",
              "    <path d=\"M18.56 5.44l.94 2.06.94-2.06 2.06-.94-2.06-.94-.94-2.06-.94 2.06-2.06.94zm-11 1L8.5 8.5l.94-2.06 2.06-.94-2.06-.94L8.5 2.5l-.94 2.06-2.06.94zm10 10l.94 2.06.94-2.06 2.06-.94-2.06-.94-.94-2.06-.94 2.06-2.06.94z\"/><path d=\"M17.41 7.96l-1.37-1.37c-.4-.4-.92-.59-1.43-.59-.52 0-1.04.2-1.43.59L10.3 9.45l-7.72 7.72c-.78.78-.78 2.05 0 2.83L4 21.41c.39.39.9.59 1.41.59.51 0 1.02-.2 1.41-.59l7.78-7.78 2.81-2.81c.8-.78.8-2.07 0-2.86zM5.41 20L4 18.59l7.72-7.72 1.47 1.35L5.41 20z\"/>\n",
              "  </svg>\n",
              "      </button>\n",
              "      \n",
              "  <style>\n",
              "    .colab-df-container {\n",
              "      display:flex;\n",
              "      flex-wrap:wrap;\n",
              "      gap: 12px;\n",
              "    }\n",
              "\n",
              "    .colab-df-convert {\n",
              "      background-color: #E8F0FE;\n",
              "      border: none;\n",
              "      border-radius: 50%;\n",
              "      cursor: pointer;\n",
              "      display: none;\n",
              "      fill: #1967D2;\n",
              "      height: 32px;\n",
              "      padding: 0 0 0 0;\n",
              "      width: 32px;\n",
              "    }\n",
              "\n",
              "    .colab-df-convert:hover {\n",
              "      background-color: #E2EBFA;\n",
              "      box-shadow: 0px 1px 2px rgba(60, 64, 67, 0.3), 0px 1px 3px 1px rgba(60, 64, 67, 0.15);\n",
              "      fill: #174EA6;\n",
              "    }\n",
              "\n",
              "    [theme=dark] .colab-df-convert {\n",
              "      background-color: #3B4455;\n",
              "      fill: #D2E3FC;\n",
              "    }\n",
              "\n",
              "    [theme=dark] .colab-df-convert:hover {\n",
              "      background-color: #434B5C;\n",
              "      box-shadow: 0px 1px 3px 1px rgba(0, 0, 0, 0.15);\n",
              "      filter: drop-shadow(0px 1px 2px rgba(0, 0, 0, 0.3));\n",
              "      fill: #FFFFFF;\n",
              "    }\n",
              "  </style>\n",
              "\n",
              "      <script>\n",
              "        const buttonEl =\n",
              "          document.querySelector('#df-3103390c-bae8-4aba-b3e9-aec3d71fe230 button.colab-df-convert');\n",
              "        buttonEl.style.display =\n",
              "          google.colab.kernel.accessAllowed ? 'block' : 'none';\n",
              "\n",
              "        async function convertToInteractive(key) {\n",
              "          const element = document.querySelector('#df-3103390c-bae8-4aba-b3e9-aec3d71fe230');\n",
              "          const dataTable =\n",
              "            await google.colab.kernel.invokeFunction('convertToInteractive',\n",
              "                                                     [key], {});\n",
              "          if (!dataTable) return;\n",
              "\n",
              "          const docLinkHtml = 'Like what you see? Visit the ' +\n",
              "            '<a target=\"_blank\" href=https://colab.research.google.com/notebooks/data_table.ipynb>data table notebook</a>'\n",
              "            + ' to learn more about interactive tables.';\n",
              "          element.innerHTML = '';\n",
              "          dataTable['output_type'] = 'display_data';\n",
              "          await google.colab.output.renderOutput(dataTable, element);\n",
              "          const docLink = document.createElement('div');\n",
              "          docLink.innerHTML = docLinkHtml;\n",
              "          element.appendChild(docLink);\n",
              "        }\n",
              "      </script>\n",
              "    </div>\n",
              "  </div>\n",
              "  "
            ]
          },
          "metadata": {},
          "execution_count": 10
        }
      ]
    },
    {
      "cell_type": "code",
      "execution_count": 11,
      "metadata": {
        "colab": {
          "base_uri": "https://localhost:8080/",
          "height": 423
        },
        "id": "U8ygajYdjfra",
        "outputId": "cbb98f74-0500-4fd5-e8c5-5b51594129d5"
      },
      "outputs": [
        {
          "output_type": "execute_result",
          "data": {
            "text/plain": [
              "                             Job_title  \\\n",
              "0                     DevOps Engineer    \n",
              "1                     DevOps Engineer    \n",
              "2                     DevOps Engineer    \n",
              "3       Cloud Infrastructure Engineer    \n",
              "4                     DevOps Engineer    \n",
              "...                                ...   \n",
              "28292              Global Investigator   \n",
              "28293          Campus Security Manager   \n",
              "28294               Facilities Manager   \n",
              "28295        Physical Security Manager   \n",
              "28296        Physical Security Manager   \n",
              "\n",
              "                                                Job_link  \\\n",
              "0      https://eg.linkedin.com/jobs/view/devops-engin...   \n",
              "1      https://eg.linkedin.com/jobs/view/devops-engin...   \n",
              "2      https://eg.linkedin.com/jobs/view/devops-engin...   \n",
              "3      https://eg.linkedin.com/jobs/view/cloud-infras...   \n",
              "4      https://eg.linkedin.com/jobs/view/devops-engin...   \n",
              "...                                                  ...   \n",
              "28292                                                NaN   \n",
              "28293                                                NaN   \n",
              "28294                                                NaN   \n",
              "28295                                                NaN   \n",
              "28296                                                NaN   \n",
              "\n",
              "                                         Job_description            Keyword  \n",
              "0      We are looking for a DevOps Engineer to join o...        scrab_ddata  \n",
              "1      Who We Are\\n\\nWe are owned and funded by one o...        scrab_ddata  \n",
              "2      Wind-IS Company, an Oracle Partner in Egypt, K...        scrab_ddata  \n",
              "3      Who We Are\\n\\nWe are owned and funded by one o...        scrab_ddata  \n",
              "4      About Axis\\n\\nWe believe that financial servic...        scrab_ddata  \n",
              "...                                                  ...                ...  \n",
              "28292  Develop protocols and practices to assess and ...  google_job_skills  \n",
              "28293  Manage the daily operations of the security ve...  google_job_skills  \n",
              "28294  Collaborate with functional teams; plan and ma...  google_job_skills  \n",
              "28295  Partner closely with and offer guidance and co...  google_job_skills  \n",
              "28296  Partner closely with and offer guidance and co...  google_job_skills  \n",
              "\n",
              "[28297 rows x 4 columns]"
            ],
            "text/html": [
              "\n",
              "  <div id=\"df-73b93a9a-9a67-4ed2-a385-a383d68683e8\">\n",
              "    <div class=\"colab-df-container\">\n",
              "      <div>\n",
              "<style scoped>\n",
              "    .dataframe tbody tr th:only-of-type {\n",
              "        vertical-align: middle;\n",
              "    }\n",
              "\n",
              "    .dataframe tbody tr th {\n",
              "        vertical-align: top;\n",
              "    }\n",
              "\n",
              "    .dataframe thead th {\n",
              "        text-align: right;\n",
              "    }\n",
              "</style>\n",
              "<table border=\"1\" class=\"dataframe\">\n",
              "  <thead>\n",
              "    <tr style=\"text-align: right;\">\n",
              "      <th></th>\n",
              "      <th>Job_title</th>\n",
              "      <th>Job_link</th>\n",
              "      <th>Job_description</th>\n",
              "      <th>Keyword</th>\n",
              "    </tr>\n",
              "  </thead>\n",
              "  <tbody>\n",
              "    <tr>\n",
              "      <th>0</th>\n",
              "      <td>DevOps Engineer</td>\n",
              "      <td>https://eg.linkedin.com/jobs/view/devops-engin...</td>\n",
              "      <td>We are looking for a DevOps Engineer to join o...</td>\n",
              "      <td>scrab_ddata</td>\n",
              "    </tr>\n",
              "    <tr>\n",
              "      <th>1</th>\n",
              "      <td>DevOps Engineer</td>\n",
              "      <td>https://eg.linkedin.com/jobs/view/devops-engin...</td>\n",
              "      <td>Who We Are\\n\\nWe are owned and funded by one o...</td>\n",
              "      <td>scrab_ddata</td>\n",
              "    </tr>\n",
              "    <tr>\n",
              "      <th>2</th>\n",
              "      <td>DevOps Engineer</td>\n",
              "      <td>https://eg.linkedin.com/jobs/view/devops-engin...</td>\n",
              "      <td>Wind-IS Company, an Oracle Partner in Egypt, K...</td>\n",
              "      <td>scrab_ddata</td>\n",
              "    </tr>\n",
              "    <tr>\n",
              "      <th>3</th>\n",
              "      <td>Cloud Infrastructure Engineer</td>\n",
              "      <td>https://eg.linkedin.com/jobs/view/cloud-infras...</td>\n",
              "      <td>Who We Are\\n\\nWe are owned and funded by one o...</td>\n",
              "      <td>scrab_ddata</td>\n",
              "    </tr>\n",
              "    <tr>\n",
              "      <th>4</th>\n",
              "      <td>DevOps Engineer</td>\n",
              "      <td>https://eg.linkedin.com/jobs/view/devops-engin...</td>\n",
              "      <td>About Axis\\n\\nWe believe that financial servic...</td>\n",
              "      <td>scrab_ddata</td>\n",
              "    </tr>\n",
              "    <tr>\n",
              "      <th>...</th>\n",
              "      <td>...</td>\n",
              "      <td>...</td>\n",
              "      <td>...</td>\n",
              "      <td>...</td>\n",
              "    </tr>\n",
              "    <tr>\n",
              "      <th>28292</th>\n",
              "      <td>Global Investigator</td>\n",
              "      <td>NaN</td>\n",
              "      <td>Develop protocols and practices to assess and ...</td>\n",
              "      <td>google_job_skills</td>\n",
              "    </tr>\n",
              "    <tr>\n",
              "      <th>28293</th>\n",
              "      <td>Campus Security Manager</td>\n",
              "      <td>NaN</td>\n",
              "      <td>Manage the daily operations of the security ve...</td>\n",
              "      <td>google_job_skills</td>\n",
              "    </tr>\n",
              "    <tr>\n",
              "      <th>28294</th>\n",
              "      <td>Facilities Manager</td>\n",
              "      <td>NaN</td>\n",
              "      <td>Collaborate with functional teams; plan and ma...</td>\n",
              "      <td>google_job_skills</td>\n",
              "    </tr>\n",
              "    <tr>\n",
              "      <th>28295</th>\n",
              "      <td>Physical Security Manager</td>\n",
              "      <td>NaN</td>\n",
              "      <td>Partner closely with and offer guidance and co...</td>\n",
              "      <td>google_job_skills</td>\n",
              "    </tr>\n",
              "    <tr>\n",
              "      <th>28296</th>\n",
              "      <td>Physical Security Manager</td>\n",
              "      <td>NaN</td>\n",
              "      <td>Partner closely with and offer guidance and co...</td>\n",
              "      <td>google_job_skills</td>\n",
              "    </tr>\n",
              "  </tbody>\n",
              "</table>\n",
              "<p>28297 rows × 4 columns</p>\n",
              "</div>\n",
              "      <button class=\"colab-df-convert\" onclick=\"convertToInteractive('df-73b93a9a-9a67-4ed2-a385-a383d68683e8')\"\n",
              "              title=\"Convert this dataframe to an interactive table.\"\n",
              "              style=\"display:none;\">\n",
              "        \n",
              "  <svg xmlns=\"http://www.w3.org/2000/svg\" height=\"24px\"viewBox=\"0 0 24 24\"\n",
              "       width=\"24px\">\n",
              "    <path d=\"M0 0h24v24H0V0z\" fill=\"none\"/>\n",
              "    <path d=\"M18.56 5.44l.94 2.06.94-2.06 2.06-.94-2.06-.94-.94-2.06-.94 2.06-2.06.94zm-11 1L8.5 8.5l.94-2.06 2.06-.94-2.06-.94L8.5 2.5l-.94 2.06-2.06.94zm10 10l.94 2.06.94-2.06 2.06-.94-2.06-.94-.94-2.06-.94 2.06-2.06.94z\"/><path d=\"M17.41 7.96l-1.37-1.37c-.4-.4-.92-.59-1.43-.59-.52 0-1.04.2-1.43.59L10.3 9.45l-7.72 7.72c-.78.78-.78 2.05 0 2.83L4 21.41c.39.39.9.59 1.41.59.51 0 1.02-.2 1.41-.59l7.78-7.78 2.81-2.81c.8-.78.8-2.07 0-2.86zM5.41 20L4 18.59l7.72-7.72 1.47 1.35L5.41 20z\"/>\n",
              "  </svg>\n",
              "      </button>\n",
              "      \n",
              "  <style>\n",
              "    .colab-df-container {\n",
              "      display:flex;\n",
              "      flex-wrap:wrap;\n",
              "      gap: 12px;\n",
              "    }\n",
              "\n",
              "    .colab-df-convert {\n",
              "      background-color: #E8F0FE;\n",
              "      border: none;\n",
              "      border-radius: 50%;\n",
              "      cursor: pointer;\n",
              "      display: none;\n",
              "      fill: #1967D2;\n",
              "      height: 32px;\n",
              "      padding: 0 0 0 0;\n",
              "      width: 32px;\n",
              "    }\n",
              "\n",
              "    .colab-df-convert:hover {\n",
              "      background-color: #E2EBFA;\n",
              "      box-shadow: 0px 1px 2px rgba(60, 64, 67, 0.3), 0px 1px 3px 1px rgba(60, 64, 67, 0.15);\n",
              "      fill: #174EA6;\n",
              "    }\n",
              "\n",
              "    [theme=dark] .colab-df-convert {\n",
              "      background-color: #3B4455;\n",
              "      fill: #D2E3FC;\n",
              "    }\n",
              "\n",
              "    [theme=dark] .colab-df-convert:hover {\n",
              "      background-color: #434B5C;\n",
              "      box-shadow: 0px 1px 3px 1px rgba(0, 0, 0, 0.15);\n",
              "      filter: drop-shadow(0px 1px 2px rgba(0, 0, 0, 0.3));\n",
              "      fill: #FFFFFF;\n",
              "    }\n",
              "  </style>\n",
              "\n",
              "      <script>\n",
              "        const buttonEl =\n",
              "          document.querySelector('#df-73b93a9a-9a67-4ed2-a385-a383d68683e8 button.colab-df-convert');\n",
              "        buttonEl.style.display =\n",
              "          google.colab.kernel.accessAllowed ? 'block' : 'none';\n",
              "\n",
              "        async function convertToInteractive(key) {\n",
              "          const element = document.querySelector('#df-73b93a9a-9a67-4ed2-a385-a383d68683e8');\n",
              "          const dataTable =\n",
              "            await google.colab.kernel.invokeFunction('convertToInteractive',\n",
              "                                                     [key], {});\n",
              "          if (!dataTable) return;\n",
              "\n",
              "          const docLinkHtml = 'Like what you see? Visit the ' +\n",
              "            '<a target=\"_blank\" href=https://colab.research.google.com/notebooks/data_table.ipynb>data table notebook</a>'\n",
              "            + ' to learn more about interactive tables.';\n",
              "          element.innerHTML = '';\n",
              "          dataTable['output_type'] = 'display_data';\n",
              "          await google.colab.output.renderOutput(dataTable, element);\n",
              "          const docLink = document.createElement('div');\n",
              "          docLink.innerHTML = docLinkHtml;\n",
              "          element.appendChild(docLink);\n",
              "        }\n",
              "      </script>\n",
              "    </div>\n",
              "  </div>\n",
              "  "
            ]
          },
          "metadata": {},
          "execution_count": 11
        }
      ],
      "source": [
        "job_data=pd.read_csv(\"/content/drive/MyDrive/Colab Notebooks/Graduation_project/dataset/job_data10_4_2023.csv\")\n",
        "job_data"
      ]
    },
    {
      "cell_type": "code",
      "source": [
        "def data_preprossing(text):\n",
        "    ## Lower case\n",
        "    text = text.apply(lambda x: \" \".join(x.lower()for x in x.split()))\n",
        "    ## remove tabulation and punctuation\n",
        "    text = text.str.replace('[^\\w\\s]',' ', regex=True)\n",
        "\n",
        "    ## digits\n",
        "    text = text.str.replace('\\d+', '', regex=True)\n",
        "    text = text.apply(lambda x: ''.join([\" \" if ord(i) < 32 or ord(i) > 126 else i for i in x]))\n",
        "\n",
        "    #remove stop words\n",
        "    stop = stopwords.words('english')\n",
        "    text= text.apply(lambda x: \" \".join(x for x in x.split() if x not in stop))\n",
        "\n",
        "    # ## lemmatization\n",
        "    # text= text.apply(lambda x: \" \".join([Word(word).lemmatize() for word in x.split()]))\n",
        "\n",
        "    return text"
      ],
      "metadata": {
        "id": "D_3pVwHXnCvv"
      },
      "execution_count": 12,
      "outputs": []
    },
    {
      "cell_type": "code",
      "source": [
        "job_data['Keyword']=data_preprossing(job_data['Keyword'])\n",
        "job_data['Job_title']=data_preprossing(job_data['Job_title'])\n",
        "job_data['Job_description']=data_preprossing(job_data['Job_description'])\n",
        "job_data"
      ],
      "metadata": {
        "colab": {
          "base_uri": "https://localhost:8080/",
          "height": 423
        },
        "id": "_e1JvPARnEQx",
        "outputId": "60968617-2b06-4b02-9ec8-70e1f11fc189"
      },
      "execution_count": null,
      "outputs": [
        {
          "output_type": "execute_result",
          "data": {
            "text/plain": [
              "                           Job_title  \\\n",
              "0                    devops engineer   \n",
              "1                    devops engineer   \n",
              "2                    devops engineer   \n",
              "3      cloud infrastructure engineer   \n",
              "4                    devops engineer   \n",
              "...                              ...   \n",
              "28292            global investigator   \n",
              "28293        campus security manager   \n",
              "28294             facilities manager   \n",
              "28295      physical security manager   \n",
              "28296      physical security manager   \n",
              "\n",
              "                                                Job_link  \\\n",
              "0      https://eg.linkedin.com/jobs/view/devops-engin...   \n",
              "1      https://eg.linkedin.com/jobs/view/devops-engin...   \n",
              "2      https://eg.linkedin.com/jobs/view/devops-engin...   \n",
              "3      https://eg.linkedin.com/jobs/view/cloud-infras...   \n",
              "4      https://eg.linkedin.com/jobs/view/devops-engin...   \n",
              "...                                                  ...   \n",
              "28292                                                NaN   \n",
              "28293                                                NaN   \n",
              "28294                                                NaN   \n",
              "28295                                                NaN   \n",
              "28296                                                NaN   \n",
              "\n",
              "                                         Job_description            Keyword  \n",
              "0      looking devops engineer join team develop soft...        scrab_ddata  \n",
              "1      owned funded one egypt renowned tech driven fi...        scrab_ddata  \n",
              "2      wind company oracle partner egypt ksa uae hiri...        scrab_ddata  \n",
              "3      owned funded one egypt renowned tech driven fi...        scrab_ddata  \n",
              "4      axis believe financial services accessible sim...        scrab_ddata  \n",
              "...                                                  ...                ...  \n",
              "28292  develop protocols practices assess mitigate th...  google_job_skills  \n",
              "28293  manage daily operations security vendors provi...  google_job_skills  \n",
              "28294  collaborate functional teams plan manage deliv...  google_job_skills  \n",
              "28295  partner closely offer guidance consultation fa...  google_job_skills  \n",
              "28296  partner closely offer guidance consultation fa...  google_job_skills  \n",
              "\n",
              "[28297 rows x 4 columns]"
            ],
            "text/html": [
              "\n",
              "  <div id=\"df-a991b24e-8242-4fd4-85dc-49b432f625b9\">\n",
              "    <div class=\"colab-df-container\">\n",
              "      <div>\n",
              "<style scoped>\n",
              "    .dataframe tbody tr th:only-of-type {\n",
              "        vertical-align: middle;\n",
              "    }\n",
              "\n",
              "    .dataframe tbody tr th {\n",
              "        vertical-align: top;\n",
              "    }\n",
              "\n",
              "    .dataframe thead th {\n",
              "        text-align: right;\n",
              "    }\n",
              "</style>\n",
              "<table border=\"1\" class=\"dataframe\">\n",
              "  <thead>\n",
              "    <tr style=\"text-align: right;\">\n",
              "      <th></th>\n",
              "      <th>Job_title</th>\n",
              "      <th>Job_link</th>\n",
              "      <th>Job_description</th>\n",
              "      <th>Keyword</th>\n",
              "    </tr>\n",
              "  </thead>\n",
              "  <tbody>\n",
              "    <tr>\n",
              "      <th>0</th>\n",
              "      <td>devops engineer</td>\n",
              "      <td>https://eg.linkedin.com/jobs/view/devops-engin...</td>\n",
              "      <td>looking devops engineer join team develop soft...</td>\n",
              "      <td>scrab_ddata</td>\n",
              "    </tr>\n",
              "    <tr>\n",
              "      <th>1</th>\n",
              "      <td>devops engineer</td>\n",
              "      <td>https://eg.linkedin.com/jobs/view/devops-engin...</td>\n",
              "      <td>owned funded one egypt renowned tech driven fi...</td>\n",
              "      <td>scrab_ddata</td>\n",
              "    </tr>\n",
              "    <tr>\n",
              "      <th>2</th>\n",
              "      <td>devops engineer</td>\n",
              "      <td>https://eg.linkedin.com/jobs/view/devops-engin...</td>\n",
              "      <td>wind company oracle partner egypt ksa uae hiri...</td>\n",
              "      <td>scrab_ddata</td>\n",
              "    </tr>\n",
              "    <tr>\n",
              "      <th>3</th>\n",
              "      <td>cloud infrastructure engineer</td>\n",
              "      <td>https://eg.linkedin.com/jobs/view/cloud-infras...</td>\n",
              "      <td>owned funded one egypt renowned tech driven fi...</td>\n",
              "      <td>scrab_ddata</td>\n",
              "    </tr>\n",
              "    <tr>\n",
              "      <th>4</th>\n",
              "      <td>devops engineer</td>\n",
              "      <td>https://eg.linkedin.com/jobs/view/devops-engin...</td>\n",
              "      <td>axis believe financial services accessible sim...</td>\n",
              "      <td>scrab_ddata</td>\n",
              "    </tr>\n",
              "    <tr>\n",
              "      <th>...</th>\n",
              "      <td>...</td>\n",
              "      <td>...</td>\n",
              "      <td>...</td>\n",
              "      <td>...</td>\n",
              "    </tr>\n",
              "    <tr>\n",
              "      <th>28292</th>\n",
              "      <td>global investigator</td>\n",
              "      <td>NaN</td>\n",
              "      <td>develop protocols practices assess mitigate th...</td>\n",
              "      <td>google_job_skills</td>\n",
              "    </tr>\n",
              "    <tr>\n",
              "      <th>28293</th>\n",
              "      <td>campus security manager</td>\n",
              "      <td>NaN</td>\n",
              "      <td>manage daily operations security vendors provi...</td>\n",
              "      <td>google_job_skills</td>\n",
              "    </tr>\n",
              "    <tr>\n",
              "      <th>28294</th>\n",
              "      <td>facilities manager</td>\n",
              "      <td>NaN</td>\n",
              "      <td>collaborate functional teams plan manage deliv...</td>\n",
              "      <td>google_job_skills</td>\n",
              "    </tr>\n",
              "    <tr>\n",
              "      <th>28295</th>\n",
              "      <td>physical security manager</td>\n",
              "      <td>NaN</td>\n",
              "      <td>partner closely offer guidance consultation fa...</td>\n",
              "      <td>google_job_skills</td>\n",
              "    </tr>\n",
              "    <tr>\n",
              "      <th>28296</th>\n",
              "      <td>physical security manager</td>\n",
              "      <td>NaN</td>\n",
              "      <td>partner closely offer guidance consultation fa...</td>\n",
              "      <td>google_job_skills</td>\n",
              "    </tr>\n",
              "  </tbody>\n",
              "</table>\n",
              "<p>28297 rows × 4 columns</p>\n",
              "</div>\n",
              "      <button class=\"colab-df-convert\" onclick=\"convertToInteractive('df-a991b24e-8242-4fd4-85dc-49b432f625b9')\"\n",
              "              title=\"Convert this dataframe to an interactive table.\"\n",
              "              style=\"display:none;\">\n",
              "        \n",
              "  <svg xmlns=\"http://www.w3.org/2000/svg\" height=\"24px\"viewBox=\"0 0 24 24\"\n",
              "       width=\"24px\">\n",
              "    <path d=\"M0 0h24v24H0V0z\" fill=\"none\"/>\n",
              "    <path d=\"M18.56 5.44l.94 2.06.94-2.06 2.06-.94-2.06-.94-.94-2.06-.94 2.06-2.06.94zm-11 1L8.5 8.5l.94-2.06 2.06-.94-2.06-.94L8.5 2.5l-.94 2.06-2.06.94zm10 10l.94 2.06.94-2.06 2.06-.94-2.06-.94-.94-2.06-.94 2.06-2.06.94z\"/><path d=\"M17.41 7.96l-1.37-1.37c-.4-.4-.92-.59-1.43-.59-.52 0-1.04.2-1.43.59L10.3 9.45l-7.72 7.72c-.78.78-.78 2.05 0 2.83L4 21.41c.39.39.9.59 1.41.59.51 0 1.02-.2 1.41-.59l7.78-7.78 2.81-2.81c.8-.78.8-2.07 0-2.86zM5.41 20L4 18.59l7.72-7.72 1.47 1.35L5.41 20z\"/>\n",
              "  </svg>\n",
              "      </button>\n",
              "      \n",
              "  <style>\n",
              "    .colab-df-container {\n",
              "      display:flex;\n",
              "      flex-wrap:wrap;\n",
              "      gap: 12px;\n",
              "    }\n",
              "\n",
              "    .colab-df-convert {\n",
              "      background-color: #E8F0FE;\n",
              "      border: none;\n",
              "      border-radius: 50%;\n",
              "      cursor: pointer;\n",
              "      display: none;\n",
              "      fill: #1967D2;\n",
              "      height: 32px;\n",
              "      padding: 0 0 0 0;\n",
              "      width: 32px;\n",
              "    }\n",
              "\n",
              "    .colab-df-convert:hover {\n",
              "      background-color: #E2EBFA;\n",
              "      box-shadow: 0px 1px 2px rgba(60, 64, 67, 0.3), 0px 1px 3px 1px rgba(60, 64, 67, 0.15);\n",
              "      fill: #174EA6;\n",
              "    }\n",
              "\n",
              "    [theme=dark] .colab-df-convert {\n",
              "      background-color: #3B4455;\n",
              "      fill: #D2E3FC;\n",
              "    }\n",
              "\n",
              "    [theme=dark] .colab-df-convert:hover {\n",
              "      background-color: #434B5C;\n",
              "      box-shadow: 0px 1px 3px 1px rgba(0, 0, 0, 0.15);\n",
              "      filter: drop-shadow(0px 1px 2px rgba(0, 0, 0, 0.3));\n",
              "      fill: #FFFFFF;\n",
              "    }\n",
              "  </style>\n",
              "\n",
              "      <script>\n",
              "        const buttonEl =\n",
              "          document.querySelector('#df-a991b24e-8242-4fd4-85dc-49b432f625b9 button.colab-df-convert');\n",
              "        buttonEl.style.display =\n",
              "          google.colab.kernel.accessAllowed ? 'block' : 'none';\n",
              "\n",
              "        async function convertToInteractive(key) {\n",
              "          const element = document.querySelector('#df-a991b24e-8242-4fd4-85dc-49b432f625b9');\n",
              "          const dataTable =\n",
              "            await google.colab.kernel.invokeFunction('convertToInteractive',\n",
              "                                                     [key], {});\n",
              "          if (!dataTable) return;\n",
              "\n",
              "          const docLinkHtml = 'Like what you see? Visit the ' +\n",
              "            '<a target=\"_blank\" href=https://colab.research.google.com/notebooks/data_table.ipynb>data table notebook</a>'\n",
              "            + ' to learn more about interactive tables.';\n",
              "          element.innerHTML = '';\n",
              "          dataTable['output_type'] = 'display_data';\n",
              "          await google.colab.output.renderOutput(dataTable, element);\n",
              "          const docLink = document.createElement('div');\n",
              "          docLink.innerHTML = docLinkHtml;\n",
              "          element.appendChild(docLink);\n",
              "        }\n",
              "      </script>\n",
              "    </div>\n",
              "  </div>\n",
              "  "
            ]
          },
          "metadata": {},
          "execution_count": 5
        }
      ]
    },
    {
      "cell_type": "code",
      "source": [
        "category_job = job_data['Keyword'].value_counts().reset_index()\n",
        "category_job"
      ],
      "metadata": {
        "colab": {
          "base_uri": "https://localhost:8080/",
          "height": 488
        },
        "id": "6oTuuBL4lLja",
        "outputId": "9163fd00-69bb-4747-beed-ac1a958db969"
      },
      "execution_count": null,
      "outputs": [
        {
          "output_type": "execute_result",
          "data": {
            "text/plain": [
              "                           index  Keyword\n",
              "0                    it_job_data    15069\n",
              "1                   kaggel_ddata     2253\n",
              "2           software engineering     1810\n",
              "3                    scrab_ddata     1706\n",
              "4                web development     1475\n",
              "5              google_job_skills     1250\n",
              "6   mobile application developer     1146\n",
              "7        artificial intelligence      969\n",
              "8      embedded systems engineer      886\n",
              "9      quality assurance manager      462\n",
              "10      cybersecurity specialist      443\n",
              "11             robotics engineer      299\n",
              "12                 web developer      272\n",
              "13                data scientist      257"
            ],
            "text/html": [
              "\n",
              "  <div id=\"df-d41038f0-a78a-4a97-84e7-ece07592cb39\">\n",
              "    <div class=\"colab-df-container\">\n",
              "      <div>\n",
              "<style scoped>\n",
              "    .dataframe tbody tr th:only-of-type {\n",
              "        vertical-align: middle;\n",
              "    }\n",
              "\n",
              "    .dataframe tbody tr th {\n",
              "        vertical-align: top;\n",
              "    }\n",
              "\n",
              "    .dataframe thead th {\n",
              "        text-align: right;\n",
              "    }\n",
              "</style>\n",
              "<table border=\"1\" class=\"dataframe\">\n",
              "  <thead>\n",
              "    <tr style=\"text-align: right;\">\n",
              "      <th></th>\n",
              "      <th>index</th>\n",
              "      <th>Keyword</th>\n",
              "    </tr>\n",
              "  </thead>\n",
              "  <tbody>\n",
              "    <tr>\n",
              "      <th>0</th>\n",
              "      <td>it_job_data</td>\n",
              "      <td>15069</td>\n",
              "    </tr>\n",
              "    <tr>\n",
              "      <th>1</th>\n",
              "      <td>kaggel_ddata</td>\n",
              "      <td>2253</td>\n",
              "    </tr>\n",
              "    <tr>\n",
              "      <th>2</th>\n",
              "      <td>software engineering</td>\n",
              "      <td>1810</td>\n",
              "    </tr>\n",
              "    <tr>\n",
              "      <th>3</th>\n",
              "      <td>scrab_ddata</td>\n",
              "      <td>1706</td>\n",
              "    </tr>\n",
              "    <tr>\n",
              "      <th>4</th>\n",
              "      <td>web development</td>\n",
              "      <td>1475</td>\n",
              "    </tr>\n",
              "    <tr>\n",
              "      <th>5</th>\n",
              "      <td>google_job_skills</td>\n",
              "      <td>1250</td>\n",
              "    </tr>\n",
              "    <tr>\n",
              "      <th>6</th>\n",
              "      <td>mobile application developer</td>\n",
              "      <td>1146</td>\n",
              "    </tr>\n",
              "    <tr>\n",
              "      <th>7</th>\n",
              "      <td>artificial intelligence</td>\n",
              "      <td>969</td>\n",
              "    </tr>\n",
              "    <tr>\n",
              "      <th>8</th>\n",
              "      <td>embedded systems engineer</td>\n",
              "      <td>886</td>\n",
              "    </tr>\n",
              "    <tr>\n",
              "      <th>9</th>\n",
              "      <td>quality assurance manager</td>\n",
              "      <td>462</td>\n",
              "    </tr>\n",
              "    <tr>\n",
              "      <th>10</th>\n",
              "      <td>cybersecurity specialist</td>\n",
              "      <td>443</td>\n",
              "    </tr>\n",
              "    <tr>\n",
              "      <th>11</th>\n",
              "      <td>robotics engineer</td>\n",
              "      <td>299</td>\n",
              "    </tr>\n",
              "    <tr>\n",
              "      <th>12</th>\n",
              "      <td>web developer</td>\n",
              "      <td>272</td>\n",
              "    </tr>\n",
              "    <tr>\n",
              "      <th>13</th>\n",
              "      <td>data scientist</td>\n",
              "      <td>257</td>\n",
              "    </tr>\n",
              "  </tbody>\n",
              "</table>\n",
              "</div>\n",
              "      <button class=\"colab-df-convert\" onclick=\"convertToInteractive('df-d41038f0-a78a-4a97-84e7-ece07592cb39')\"\n",
              "              title=\"Convert this dataframe to an interactive table.\"\n",
              "              style=\"display:none;\">\n",
              "        \n",
              "  <svg xmlns=\"http://www.w3.org/2000/svg\" height=\"24px\"viewBox=\"0 0 24 24\"\n",
              "       width=\"24px\">\n",
              "    <path d=\"M0 0h24v24H0V0z\" fill=\"none\"/>\n",
              "    <path d=\"M18.56 5.44l.94 2.06.94-2.06 2.06-.94-2.06-.94-.94-2.06-.94 2.06-2.06.94zm-11 1L8.5 8.5l.94-2.06 2.06-.94-2.06-.94L8.5 2.5l-.94 2.06-2.06.94zm10 10l.94 2.06.94-2.06 2.06-.94-2.06-.94-.94-2.06-.94 2.06-2.06.94z\"/><path d=\"M17.41 7.96l-1.37-1.37c-.4-.4-.92-.59-1.43-.59-.52 0-1.04.2-1.43.59L10.3 9.45l-7.72 7.72c-.78.78-.78 2.05 0 2.83L4 21.41c.39.39.9.59 1.41.59.51 0 1.02-.2 1.41-.59l7.78-7.78 2.81-2.81c.8-.78.8-2.07 0-2.86zM5.41 20L4 18.59l7.72-7.72 1.47 1.35L5.41 20z\"/>\n",
              "  </svg>\n",
              "      </button>\n",
              "      \n",
              "  <style>\n",
              "    .colab-df-container {\n",
              "      display:flex;\n",
              "      flex-wrap:wrap;\n",
              "      gap: 12px;\n",
              "    }\n",
              "\n",
              "    .colab-df-convert {\n",
              "      background-color: #E8F0FE;\n",
              "      border: none;\n",
              "      border-radius: 50%;\n",
              "      cursor: pointer;\n",
              "      display: none;\n",
              "      fill: #1967D2;\n",
              "      height: 32px;\n",
              "      padding: 0 0 0 0;\n",
              "      width: 32px;\n",
              "    }\n",
              "\n",
              "    .colab-df-convert:hover {\n",
              "      background-color: #E2EBFA;\n",
              "      box-shadow: 0px 1px 2px rgba(60, 64, 67, 0.3), 0px 1px 3px 1px rgba(60, 64, 67, 0.15);\n",
              "      fill: #174EA6;\n",
              "    }\n",
              "\n",
              "    [theme=dark] .colab-df-convert {\n",
              "      background-color: #3B4455;\n",
              "      fill: #D2E3FC;\n",
              "    }\n",
              "\n",
              "    [theme=dark] .colab-df-convert:hover {\n",
              "      background-color: #434B5C;\n",
              "      box-shadow: 0px 1px 3px 1px rgba(0, 0, 0, 0.15);\n",
              "      filter: drop-shadow(0px 1px 2px rgba(0, 0, 0, 0.3));\n",
              "      fill: #FFFFFF;\n",
              "    }\n",
              "  </style>\n",
              "\n",
              "      <script>\n",
              "        const buttonEl =\n",
              "          document.querySelector('#df-d41038f0-a78a-4a97-84e7-ece07592cb39 button.colab-df-convert');\n",
              "        buttonEl.style.display =\n",
              "          google.colab.kernel.accessAllowed ? 'block' : 'none';\n",
              "\n",
              "        async function convertToInteractive(key) {\n",
              "          const element = document.querySelector('#df-d41038f0-a78a-4a97-84e7-ece07592cb39');\n",
              "          const dataTable =\n",
              "            await google.colab.kernel.invokeFunction('convertToInteractive',\n",
              "                                                     [key], {});\n",
              "          if (!dataTable) return;\n",
              "\n",
              "          const docLinkHtml = 'Like what you see? Visit the ' +\n",
              "            '<a target=\"_blank\" href=https://colab.research.google.com/notebooks/data_table.ipynb>data table notebook</a>'\n",
              "            + ' to learn more about interactive tables.';\n",
              "          element.innerHTML = '';\n",
              "          dataTable['output_type'] = 'display_data';\n",
              "          await google.colab.output.renderOutput(dataTable, element);\n",
              "          const docLink = document.createElement('div');\n",
              "          docLink.innerHTML = docLinkHtml;\n",
              "          element.appendChild(docLink);\n",
              "        }\n",
              "      </script>\n",
              "    </div>\n",
              "  </div>\n",
              "  "
            ]
          },
          "metadata": {},
          "execution_count": 6
        }
      ]
    },
    {
      "cell_type": "code",
      "source": [
        "import pandas as pd\n",
        "import spacy\n",
        "from sklearn.feature_extraction.text import TfidfVectorizer\n",
        "from sklearn.metrics.pairwise import cosine_similarity"
      ],
      "metadata": {
        "id": "Gy6SOW593opg"
      },
      "execution_count": 13,
      "outputs": []
    },
    {
      "cell_type": "code",
      "source": [
        "# Load the language model\n",
        "nlp = spacy.load('en_core_web_sm')\n",
        "vectorizer = TfidfVectorizer(stop_words='english')\n",
        "\n",
        "# Define a function to extract skills from a job description\n",
        "def extract_skills(text):\n",
        "    doc = nlp(text)\n",
        "    skills = []\n",
        "    # print(doc.ents)\n",
        "    for ent in doc.ents:\n",
        "        if ent.label_ == 'ORG':\n",
        "            skills.append(ent.text)\n",
        "            # print(:skills)\n",
        "    return list(set(skills))"
      ],
      "metadata": {
        "id": "8_eSogU03kb9"
      },
      "execution_count": 14,
      "outputs": []
    },
    {
      "cell_type": "code",
      "source": [
        "# Extract skills from each job description and create a TF-IDF matrix\n",
        "corpus = job_data['Job_description'].tolist()\n",
        "skills = [extract_skills(text) for text in corpus]\n",
        "corpus_skills = [' '.join(text) for text in skills]\n",
        "tfidf_matrix = vectorizer.fit_transform(corpus_skills)\n"
      ],
      "metadata": {
        "id": "up7NpH33ogLs"
      },
      "execution_count": 15,
      "outputs": []
    },
    {
      "cell_type": "code",
      "source": [
        "job_data[\"skills\"]=skills"
      ],
      "metadata": {
        "id": "oKehnKotC5OZ"
      },
      "execution_count": 63,
      "outputs": []
    },
    {
      "cell_type": "code",
      "source": [
        "job_data[:10]"
      ],
      "metadata": {
        "colab": {
          "base_uri": "https://localhost:8080/",
          "height": 363
        },
        "id": "llT1A3xrDYPN",
        "outputId": "c50ff472-f147-468e-a196-9a5339eb6faf"
      },
      "execution_count": 64,
      "outputs": [
        {
          "output_type": "execute_result",
          "data": {
            "text/plain": [
              "                         Job_title  \\\n",
              "0                 DevOps Engineer    \n",
              "1                 DevOps Engineer    \n",
              "2                 DevOps Engineer    \n",
              "3   Cloud Infrastructure Engineer    \n",
              "4                 DevOps Engineer    \n",
              "5                 DevOps Engineer    \n",
              "6                 DevOps Engineer    \n",
              "7                 DevOps Engineer    \n",
              "8                 DevOps Engineer    \n",
              "9                 DevOps Engineer    \n",
              "\n",
              "                                            Job_link  \\\n",
              "0  https://eg.linkedin.com/jobs/view/devops-engin...   \n",
              "1  https://eg.linkedin.com/jobs/view/devops-engin...   \n",
              "2  https://eg.linkedin.com/jobs/view/devops-engin...   \n",
              "3  https://eg.linkedin.com/jobs/view/cloud-infras...   \n",
              "4  https://eg.linkedin.com/jobs/view/devops-engin...   \n",
              "5  https://eg.linkedin.com/jobs/view/devops-engin...   \n",
              "6  https://eg.linkedin.com/jobs/view/devops-engin...   \n",
              "7  https://eg.linkedin.com/jobs/view/devops-engin...   \n",
              "8  https://eg.linkedin.com/jobs/view/devops-engin...   \n",
              "9  https://eg.linkedin.com/jobs/view/devops-engin...   \n",
              "\n",
              "                                     Job_description      Keyword  \\\n",
              "0  We are looking for a DevOps Engineer to join o...  scrab_ddata   \n",
              "1  Who We Are\\n\\nWe are owned and funded by one o...  scrab_ddata   \n",
              "2  Wind-IS Company, an Oracle Partner in Egypt, K...  scrab_ddata   \n",
              "3  Who We Are\\n\\nWe are owned and funded by one o...  scrab_ddata   \n",
              "4  About Axis\\n\\nWe believe that financial servic...  scrab_ddata   \n",
              "5  Envision Employment Solutions is currently on ...  scrab_ddata   \n",
              "6  Connect Ads is one of the leading digital medi...  scrab_ddata   \n",
              "7  Main Responsibilities\\n\\n\\n\\n\\nWe're looking f...  scrab_ddata   \n",
              "8  \\n\\n\\nEgybell is hiring for multinational Amer...  scrab_ddata   \n",
              "9  Ready and hungry for a new adventure? You are ...  scrab_ddata   \n",
              "\n",
              "                                              skills  \n",
              "0              [AWS, GCP, Identify, DevOps Engineer]  \n",
              "1  [Klivvr, Terraform, DevOps Engineer, Kubernete...  \n",
              "2  [Social + Medical Insurance\\nFriendly Environm...  \n",
              "3  [Klivvr, AWS & MS, DHCP, GPO,, DNS, Join the M...  \n",
              "4  [DevOps Engineer, Google, Kubernetes, PKI, Dev...  \n",
              "5  [Azure Active Directory, Envision Employment S...  \n",
              "6  [Nginx, Yahoo, EMEA, Shazam, Verizon Media, Sp...  \n",
              "7  [Nginx, LAMP, MySQL & Mongodb, Main Requiremen...  \n",
              "8  [• Excellent, Unix Operating Systems, Amazon A...  \n",
              "9  [Computer Science or Engineering\\nCandidates, ...  "
            ],
            "text/html": [
              "\n",
              "  <div id=\"df-875ebd2e-7fc8-4da3-9673-2f214cee5e2e\">\n",
              "    <div class=\"colab-df-container\">\n",
              "      <div>\n",
              "<style scoped>\n",
              "    .dataframe tbody tr th:only-of-type {\n",
              "        vertical-align: middle;\n",
              "    }\n",
              "\n",
              "    .dataframe tbody tr th {\n",
              "        vertical-align: top;\n",
              "    }\n",
              "\n",
              "    .dataframe thead th {\n",
              "        text-align: right;\n",
              "    }\n",
              "</style>\n",
              "<table border=\"1\" class=\"dataframe\">\n",
              "  <thead>\n",
              "    <tr style=\"text-align: right;\">\n",
              "      <th></th>\n",
              "      <th>Job_title</th>\n",
              "      <th>Job_link</th>\n",
              "      <th>Job_description</th>\n",
              "      <th>Keyword</th>\n",
              "      <th>skills</th>\n",
              "    </tr>\n",
              "  </thead>\n",
              "  <tbody>\n",
              "    <tr>\n",
              "      <th>0</th>\n",
              "      <td>DevOps Engineer</td>\n",
              "      <td>https://eg.linkedin.com/jobs/view/devops-engin...</td>\n",
              "      <td>We are looking for a DevOps Engineer to join o...</td>\n",
              "      <td>scrab_ddata</td>\n",
              "      <td>[AWS, GCP, Identify, DevOps Engineer]</td>\n",
              "    </tr>\n",
              "    <tr>\n",
              "      <th>1</th>\n",
              "      <td>DevOps Engineer</td>\n",
              "      <td>https://eg.linkedin.com/jobs/view/devops-engin...</td>\n",
              "      <td>Who We Are\\n\\nWe are owned and funded by one o...</td>\n",
              "      <td>scrab_ddata</td>\n",
              "      <td>[Klivvr, Terraform, DevOps Engineer, Kubernete...</td>\n",
              "    </tr>\n",
              "    <tr>\n",
              "      <th>2</th>\n",
              "      <td>DevOps Engineer</td>\n",
              "      <td>https://eg.linkedin.com/jobs/view/devops-engin...</td>\n",
              "      <td>Wind-IS Company, an Oracle Partner in Egypt, K...</td>\n",
              "      <td>scrab_ddata</td>\n",
              "      <td>[Social + Medical Insurance\\nFriendly Environm...</td>\n",
              "    </tr>\n",
              "    <tr>\n",
              "      <th>3</th>\n",
              "      <td>Cloud Infrastructure Engineer</td>\n",
              "      <td>https://eg.linkedin.com/jobs/view/cloud-infras...</td>\n",
              "      <td>Who We Are\\n\\nWe are owned and funded by one o...</td>\n",
              "      <td>scrab_ddata</td>\n",
              "      <td>[Klivvr, AWS &amp; MS, DHCP, GPO,, DNS, Join the M...</td>\n",
              "    </tr>\n",
              "    <tr>\n",
              "      <th>4</th>\n",
              "      <td>DevOps Engineer</td>\n",
              "      <td>https://eg.linkedin.com/jobs/view/devops-engin...</td>\n",
              "      <td>About Axis\\n\\nWe believe that financial servic...</td>\n",
              "      <td>scrab_ddata</td>\n",
              "      <td>[DevOps Engineer, Google, Kubernetes, PKI, Dev...</td>\n",
              "    </tr>\n",
              "    <tr>\n",
              "      <th>5</th>\n",
              "      <td>DevOps Engineer</td>\n",
              "      <td>https://eg.linkedin.com/jobs/view/devops-engin...</td>\n",
              "      <td>Envision Employment Solutions is currently on ...</td>\n",
              "      <td>scrab_ddata</td>\n",
              "      <td>[Azure Active Directory, Envision Employment S...</td>\n",
              "    </tr>\n",
              "    <tr>\n",
              "      <th>6</th>\n",
              "      <td>DevOps Engineer</td>\n",
              "      <td>https://eg.linkedin.com/jobs/view/devops-engin...</td>\n",
              "      <td>Connect Ads is one of the leading digital medi...</td>\n",
              "      <td>scrab_ddata</td>\n",
              "      <td>[Nginx, Yahoo, EMEA, Shazam, Verizon Media, Sp...</td>\n",
              "    </tr>\n",
              "    <tr>\n",
              "      <th>7</th>\n",
              "      <td>DevOps Engineer</td>\n",
              "      <td>https://eg.linkedin.com/jobs/view/devops-engin...</td>\n",
              "      <td>Main Responsibilities\\n\\n\\n\\n\\nWe're looking f...</td>\n",
              "      <td>scrab_ddata</td>\n",
              "      <td>[Nginx, LAMP, MySQL &amp; Mongodb, Main Requiremen...</td>\n",
              "    </tr>\n",
              "    <tr>\n",
              "      <th>8</th>\n",
              "      <td>DevOps Engineer</td>\n",
              "      <td>https://eg.linkedin.com/jobs/view/devops-engin...</td>\n",
              "      <td>\\n\\n\\nEgybell is hiring for multinational Amer...</td>\n",
              "      <td>scrab_ddata</td>\n",
              "      <td>[• Excellent, Unix Operating Systems, Amazon A...</td>\n",
              "    </tr>\n",
              "    <tr>\n",
              "      <th>9</th>\n",
              "      <td>DevOps Engineer</td>\n",
              "      <td>https://eg.linkedin.com/jobs/view/devops-engin...</td>\n",
              "      <td>Ready and hungry for a new adventure? You are ...</td>\n",
              "      <td>scrab_ddata</td>\n",
              "      <td>[Computer Science or Engineering\\nCandidates, ...</td>\n",
              "    </tr>\n",
              "  </tbody>\n",
              "</table>\n",
              "</div>\n",
              "      <button class=\"colab-df-convert\" onclick=\"convertToInteractive('df-875ebd2e-7fc8-4da3-9673-2f214cee5e2e')\"\n",
              "              title=\"Convert this dataframe to an interactive table.\"\n",
              "              style=\"display:none;\">\n",
              "        \n",
              "  <svg xmlns=\"http://www.w3.org/2000/svg\" height=\"24px\"viewBox=\"0 0 24 24\"\n",
              "       width=\"24px\">\n",
              "    <path d=\"M0 0h24v24H0V0z\" fill=\"none\"/>\n",
              "    <path d=\"M18.56 5.44l.94 2.06.94-2.06 2.06-.94-2.06-.94-.94-2.06-.94 2.06-2.06.94zm-11 1L8.5 8.5l.94-2.06 2.06-.94-2.06-.94L8.5 2.5l-.94 2.06-2.06.94zm10 10l.94 2.06.94-2.06 2.06-.94-2.06-.94-.94-2.06-.94 2.06-2.06.94z\"/><path d=\"M17.41 7.96l-1.37-1.37c-.4-.4-.92-.59-1.43-.59-.52 0-1.04.2-1.43.59L10.3 9.45l-7.72 7.72c-.78.78-.78 2.05 0 2.83L4 21.41c.39.39.9.59 1.41.59.51 0 1.02-.2 1.41-.59l7.78-7.78 2.81-2.81c.8-.78.8-2.07 0-2.86zM5.41 20L4 18.59l7.72-7.72 1.47 1.35L5.41 20z\"/>\n",
              "  </svg>\n",
              "      </button>\n",
              "      \n",
              "  <style>\n",
              "    .colab-df-container {\n",
              "      display:flex;\n",
              "      flex-wrap:wrap;\n",
              "      gap: 12px;\n",
              "    }\n",
              "\n",
              "    .colab-df-convert {\n",
              "      background-color: #E8F0FE;\n",
              "      border: none;\n",
              "      border-radius: 50%;\n",
              "      cursor: pointer;\n",
              "      display: none;\n",
              "      fill: #1967D2;\n",
              "      height: 32px;\n",
              "      padding: 0 0 0 0;\n",
              "      width: 32px;\n",
              "    }\n",
              "\n",
              "    .colab-df-convert:hover {\n",
              "      background-color: #E2EBFA;\n",
              "      box-shadow: 0px 1px 2px rgba(60, 64, 67, 0.3), 0px 1px 3px 1px rgba(60, 64, 67, 0.15);\n",
              "      fill: #174EA6;\n",
              "    }\n",
              "\n",
              "    [theme=dark] .colab-df-convert {\n",
              "      background-color: #3B4455;\n",
              "      fill: #D2E3FC;\n",
              "    }\n",
              "\n",
              "    [theme=dark] .colab-df-convert:hover {\n",
              "      background-color: #434B5C;\n",
              "      box-shadow: 0px 1px 3px 1px rgba(0, 0, 0, 0.15);\n",
              "      filter: drop-shadow(0px 1px 2px rgba(0, 0, 0, 0.3));\n",
              "      fill: #FFFFFF;\n",
              "    }\n",
              "  </style>\n",
              "\n",
              "      <script>\n",
              "        const buttonEl =\n",
              "          document.querySelector('#df-875ebd2e-7fc8-4da3-9673-2f214cee5e2e button.colab-df-convert');\n",
              "        buttonEl.style.display =\n",
              "          google.colab.kernel.accessAllowed ? 'block' : 'none';\n",
              "\n",
              "        async function convertToInteractive(key) {\n",
              "          const element = document.querySelector('#df-875ebd2e-7fc8-4da3-9673-2f214cee5e2e');\n",
              "          const dataTable =\n",
              "            await google.colab.kernel.invokeFunction('convertToInteractive',\n",
              "                                                     [key], {});\n",
              "          if (!dataTable) return;\n",
              "\n",
              "          const docLinkHtml = 'Like what you see? Visit the ' +\n",
              "            '<a target=\"_blank\" href=https://colab.research.google.com/notebooks/data_table.ipynb>data table notebook</a>'\n",
              "            + ' to learn more about interactive tables.';\n",
              "          element.innerHTML = '';\n",
              "          dataTable['output_type'] = 'display_data';\n",
              "          await google.colab.output.renderOutput(dataTable, element);\n",
              "          const docLink = document.createElement('div');\n",
              "          docLink.innerHTML = docLinkHtml;\n",
              "          element.appendChild(docLink);\n",
              "        }\n",
              "      </script>\n",
              "    </div>\n",
              "  </div>\n",
              "  "
            ]
          },
          "metadata": {},
          "execution_count": 64
        }
      ]
    },
    {
      "cell_type": "code",
      "source": [
        "cv_data['Resume'][0]"
      ],
      "metadata": {
        "colab": {
          "base_uri": "https://localhost:8080/",
          "height": 123
        },
        "id": "wdXXGKgOynpZ",
        "outputId": "503c6f55-ce6a-4399-f6ea-bbc55a02e48d"
      },
      "execution_count": 16,
      "outputs": [
        {
          "output_type": "execute_result",
          "data": {
            "text/plain": [
              "'Skills * Programming Languages: Python (pandas, numpy, scipy, scikit-learn, matplotlib), Sql, Java, JavaScript/JQuery. * Machine learning: Regression, SVM, NaÃ¯ve Bayes, KNN, Random Forest, Decision Trees, Boosting techniques, Cluster Analysis, Word Embedding, Sentiment Analysis, Natural Language processing, Dimensionality reduction, Topic Modelling (LDA, NMF), PCA & Neural Nets. * Database Visualizations: Mysql, SqlServer, Cassandra, Hbase, ElasticSearch D3.js, DC.js, Plotly, kibana, matplotlib, ggplot, Tableau. * Others: Regular Expression, HTML, CSS, Angular 6, Logstash, Kafka, Python Flask, Git, Docker, computer vision - Open CV and understanding of Deep learning.Education Details \\r\\n\\r\\nData Science Assurance Associate \\r\\n\\r\\nData Science Assurance Associate - Ernst & Young LLP\\r\\nSkill Details \\r\\nJAVASCRIPT- Exprience - 24 months\\r\\njQuery- Exprience - 24 months\\r\\nPython- Exprience - 24 monthsCompany Details \\r\\ncompany - Ernst & Young LLP\\r\\ndescription - Fraud Investigations and Dispute Services   Assurance\\r\\nTECHNOLOGY ASSISTED REVIEW\\r\\nTAR (Technology Assisted Review) assists in accelerating the review process and run analytics and generate reports.\\r\\n* Core member of a team helped in developing automated review platform tool from scratch for assisting E discovery domain, this tool implements predictive coding and topic modelling by automating reviews, resulting in reduced labor costs and time spent during the lawyers review.\\r\\n* Understand the end to end flow of the solution, doing research and development for classification models, predictive analysis and mining of the information present in text data. Worked on analyzing the outputs and precision monitoring for the entire tool.\\r\\n* TAR assists in predictive coding, topic modelling from the evidence by following EY standards. Developed the classifier models in order to identify \"red flags\" and fraud-related issues.\\r\\n\\r\\nTools & Technologies: Python, scikit-learn, tfidf, word2vec, doc2vec, cosine similarity, NaÃ¯ve Bayes, LDA, NMF for topic modelling, Vader and text blob for sentiment analysis. Matplot lib, Tableau dashboard for reporting.\\r\\n\\r\\nMULTIPLE DATA SCIENCE AND ANALYTIC PROJECTS (USA CLIENTS)\\r\\nTEXT ANALYTICS - MOTOR VEHICLE CUSTOMER REVIEW DATA * Received customer feedback survey data for past one year. Performed sentiment (Positive, Negative & Neutral) and time series analysis on customer comments across all 4 categories.\\r\\n* Created heat map of terms by survey category based on frequency of words * Extracted Positive and Negative words across all the Survey categories and plotted Word cloud.\\r\\n* Created customized tableau dashboards for effective reporting and visualizations.\\r\\nCHATBOT * Developed a user friendly chatbot for one of our Products which handle simple questions about hours of operation, reservation options and so on.\\r\\n* This chat bot serves entire product related questions. Giving overview of tool via QA platform and also give recommendation responses so that user question to build chain of relevant answer.\\r\\n* This too has intelligence to build the pipeline of questions as per user requirement and asks the relevant /recommended questions.\\r\\n\\r\\nTools & Technologies: Python, Natural language processing, NLTK, spacy, topic modelling, Sentiment analysis, Word Embedding, scikit-learn, JavaScript/JQuery, SqlServer\\r\\n\\r\\nINFORMATION GOVERNANCE\\r\\nOrganizations to make informed decisions about all of the information they store. The integrated Information Governance portfolio synthesizes intelligence across unstructured data sources and facilitates action to ensure organizations are best positioned to counter information risk.\\r\\n* Scan data from multiple sources of formats and parse different file formats, extract Meta data information, push results for indexing elastic search and created customized, interactive dashboards using kibana.\\r\\n* Preforming ROT Analysis on the data which give information of data which helps identify content that is either Redundant, Outdated, or Trivial.\\r\\n* Preforming full-text search analysis on elastic search with predefined methods which can tag as (PII) personally identifiable information (social security numbers, addresses, names, etc.) which frequently targeted during cyber-attacks.\\r\\nTools & Technologies: Python, Flask, Elastic Search, Kibana\\r\\n\\r\\nFRAUD ANALYTIC PLATFORM\\r\\nFraud Analytics and investigative platform to review all red flag cases.\\r\\nâ\\x80¢ FAP is a Fraud Analytics and investigative platform with inbuilt case manager and suite of Analytics for various ERP systems.\\r\\n* It can be used by clients to interrogate their Accounting systems for identifying the anomalies which can be indicators of fraud by running advanced analytics\\r\\nTools & Technologies: HTML, JavaScript, SqlServer, JQuery, CSS, Bootstrap, Node.js, D3.js, DC.js'"
            ],
            "application/vnd.google.colaboratory.intrinsic+json": {
              "type": "string"
            }
          },
          "metadata": {},
          "execution_count": 16
        }
      ]
    },
    {
      "cell_type": "code",
      "source": [
        "CV=\"\"\" am a student at faculty of computers and Artificial intelligence, Cairo university, AI department. I have worked on multi core problems across object detection using YOLO5, nlp\n",
        "(text preprocessing , question generation and answering ).I am Inquisitive about Natural language processing, time series analysis, predictions and machine learning\n",
        "applications.Machine learning motivates me and gives me reason to think, innovate, dream, build and share with word.\n",
        "Professional Experience\n",
        "Artificial Intelligent Intern National Telecommunication Institute (NTI)| September 2022- September 2022\n",
        "I learned a lot and overcame an obstacle in handling and preparing data to be used in a machine-learning model. I used more than one dataset such as covid-19, iris, mnist,\n",
        "cifar10, bosting_housing, breast cancer, and fashion dataset.\n",
        "I have tried more models like naive_bayes, KMEAN, KNN, SVM, DecisionTreeClassifie, NN, CNN, VGG16, AlexNet, LeNet-5, and RNN.\n",
        "I also trained to improve soft skills like Communication skills, Interview skills, Presentation skills ,Leadership skills, Teamwork skills, Decision Making, and Problem Solving skills,\n",
        "Time management skills\n",
        "Assistant c++ Courses student activity 180 degree | March 2022- March 2022\n",
        "Helping novice students learn C++ and follow up with them in solving Tasks\n",
        "Education\n",
        "Bachelor in Artificial Intelligence FACULTY OF COMPUTERS SCINCE AND ARTIFICIAL INTELLIGENCEat Cario university | September 2019 - Present\n",
        "Related Courses: Machine Learning, Deep Learning, Data Structure, Algorithm, Robotics, Operating System\n",
        "Key Skills\n",
        "EA\n",
        "Esraa\n",
        "Abdelrazek\n",
        "Artificial Intelligence Engineer\n",
        "enew.abdelrazek0123@gmail.com\n",
        "+01114356194\n",
        "Github: https://github.com/EsraaMosaad\n",
        "Expert knowledge of deep learning tecniques such as CNN,RNN,LSTMAND GAN\n",
        "Proficient python programming skills and experience using ML-related libraries\n",
        "Excellent communication skills, teamwork ,results-oriented attitude and problem solving\n",
        "knowledge of Natural Language Processing(NLP)\"\"\""
      ],
      "metadata": {
        "id": "un6sPum8Befg"
      },
      "execution_count": 48,
      "outputs": []
    },
    {
      "cell_type": "code",
      "source": [
        "cv_id=600\n",
        "cv_skills = extract_skills(CV)\n",
        "cv_skills_str = ' '.join(cv_skills)\n",
        "cv_tfidf = vectorizer.transform([cv_skills_str])"
      ],
      "metadata": {
        "id": "9vkrQwJgwQB_"
      },
      "execution_count": 49,
      "outputs": []
    },
    {
      "cell_type": "code",
      "source": [
        "# Compute cosine similarity between the CV vector and the job description matrix\n",
        "similarity_scores = cosine_similarity(cv_tfidf, tfidf_matrix)"
      ],
      "metadata": {
        "id": "Z-zRMz0-yy7G"
      },
      "execution_count": 50,
      "outputs": []
    },
    {
      "cell_type": "code",
      "source": [
        "n=10\n",
        "def get_top_n(n):\n",
        "  top_jobs_indices = similarity_scores.argsort()[0][::-1][:10]\n",
        "  for i in top_jobs_indices:\n",
        "    jobs =job_data.iloc[i]['Job_title']\n",
        "    print(job_data.iloc[i]['Job_title'],similarity_scores[0][i],i,\"-->\",job_data.iloc[i]['Keyword'])\n"
      ],
      "metadata": {
        "id": "CXWj-J8h9nDq"
      },
      "execution_count": 54,
      "outputs": []
    },
    {
      "cell_type": "code",
      "source": [
        "cv_skills_str"
      ],
      "metadata": {
        "colab": {
          "base_uri": "https://localhost:8080/",
          "height": 53
        },
        "id": "ksqvli3_AGul",
        "outputId": "1dcd2fe4-03f9-4d01-96c1-4375e22126e2"
      },
      "execution_count": 52,
      "outputs": [
        {
          "output_type": "execute_result",
          "data": {
            "text/plain": [
              "'Artificial ML-related AI department NN Communication SVM RNN CNN Artificial Intelligence Engineer LSTMAND GAN Time Artificial Intelligent Intern National Telecommunication Institute LeNet-5 Deep Learning Decision Making EA\\nEsraa DecisionTreeClassifie KMEAN Teamwork KNN Problem Solving Robotics'"
            ],
            "application/vnd.google.colaboratory.intrinsic+json": {
              "type": "string"
            }
          },
          "metadata": {},
          "execution_count": 52
        }
      ]
    },
    {
      "cell_type": "code",
      "source": [
        "# Find the top 10 jobs with the highest similarity scores\n",
        "\n",
        "print(f\"Name for CV {cv_id} :  {cv_data['Category'][cv_id]}\",)\n",
        "print(\"Recommended top 5 job\")\n",
        "get_top_n(n)\n",
        "\n"
      ],
      "metadata": {
        "colab": {
          "base_uri": "https://localhost:8080/"
        },
        "id": "oUVzjcn8y6Zr",
        "outputId": "fae2f220-c5c3-4e61-cb46-565e57dfb99d"
      },
      "execution_count": 55,
      "outputs": [
        {
          "output_type": "stream",
          "name": "stdout",
          "text": [
            "Name for CV 600 :  DevOps Engineer\n",
            "Recommended top 5 job\n",
            "Artificial Intelligence Specialist 0.46629907394396997 5384 --> Artificial Intelligence\n",
            "Senior Software Development Engineer in Test (Python) 0.4631266143863026 7523 --> artificial intelligence\n",
            "AI/ML Software Developer 0.42372071106991005 7149 --> artificial intelligence\n",
            "Systems Engineer 0.40933433784307743 11563 --> Robotics engineer\n",
            "Developer, Data Science 0.40346077344523884 10613 --> Mobile application developer\n",
            "Developer, Data Science 0.40346077344523884 8488 --> software engineering\n",
            "Manager, Data & AI Risk 0.3952041675552793 7072 --> artificial intelligence\n",
            "Senior Data Scientist 0.3866680389526821 7067 --> artificial intelligence\n",
            "AI/ML Engineer 0.34986840394322893 4409 --> Data Scientist\n",
            " Senior level Ruby on Rails Web App and Machine Learning developer  0.33801653049118086 510 --> scrab_ddata\n"
          ]
        }
      ]
    },
    {
      "cell_type": "code",
      "source": [
        "extract_skills(job_data['Job_description'][5384])"
      ],
      "metadata": {
        "colab": {
          "base_uri": "https://localhost:8080/"
        },
        "id": "GzhSgXO6jo5q",
        "outputId": "e9630e13-a9fa-47e5-b12a-17151de62482"
      },
      "execution_count": 57,
      "outputs": [
        {
          "output_type": "execute_result",
          "data": {
            "text/plain": [
              "['Artificial Intelligence',\n",
              " 'AI',\n",
              " 'Formulate Artificial Intelligence',\n",
              " 'Artificial']"
            ]
          },
          "metadata": {},
          "execution_count": 57
        }
      ]
    },
    {
      "cell_type": "code",
      "source": [
        "job_data['Job_description'][5384]"
      ],
      "metadata": {
        "colab": {
          "base_uri": "https://localhost:8080/",
          "height": 192
        },
        "id": "Uz5a-2bIkkaG",
        "outputId": "371c9ec9-7896-4cd5-fff5-d5ea10b599e1"
      },
      "execution_count": 58,
      "outputs": [
        {
          "output_type": "execute_result",
          "data": {
            "text/plain": [
              "\"You will influence how artificial intelligence is used. Your mission will be to utilise AI's potential and assist the organisation in achieving its objectives.\\n\\nFormulate Artificial Intelligence strategies.\\nSupervise research and development processes and other processes to make sure they fulfil the needs of AI strategies.\\nRecognize the companys goals and also the challenges faced by potential clients.\\nFigure out the ways in which Artificial intelligence can be used to solve issues faced by clients and also enhance user experience.\\nCollaborate with cross-functional teams to analyse the partners business and main areas where the application of AI can stimulate business growth.\\nSet high ethical standards while applying Artificial Intelligence.\\nDescribe AI solutions clearly to everyone.\\nDevelop an efficient prototype.\\nWork closely with the executives and engineers to finalize the design.\\nManage the AI team to perform tasks like the assessment of AI, automation market, etc.\\nPerform tests before the delivery final application.\\nAnalyse the final project, give feedback, determine areas of improvement, and help the project team to make necessary changes.\\nBachelors degree in Computer Science or other related courses.\\nProven experience in Artificial Intelligence, deep learning, and other relevant fields.\\nFamiliarity with functional design principles, object-oriented programming principles, basic algorithms.\\nHands-on experience in REST API and designs such as RDBMS design, NoSQL design.\\n\\n£65K-£85K depending on their level of experience\\n\\nPlusannual leave allowance, increasing with length of service\\n\\nAnnual leave buy/sell scheme\\n\\nFlexible working home /office\\n\\nPension scheme to look after your future\\n\\nHealth and wellbeing benefits\\n\\ngreat company culture\""
            ],
            "application/vnd.google.colaboratory.intrinsic+json": {
              "type": "string"
            }
          },
          "metadata": {},
          "execution_count": 58
        }
      ]
    },
    {
      "cell_type": "code",
      "source": [
        "# Extract skills from each job description and save them in a new column\n",
        "job_data['skills'] = job_data['Job_description'].apply(extract_skills)\n",
        "\n"
      ],
      "metadata": {
        "id": "rzqjp1vt37t_"
      },
      "execution_count": null,
      "outputs": []
    },
    {
      "cell_type": "code",
      "source": [
        "# Save the updated data to a new CSV file\n",
        "job_data.to_csv('job_descriptions_with_skills.csv', index=False)"
      ],
      "metadata": {
        "id": "Gjl576oD7vig"
      },
      "execution_count": 65,
      "outputs": []
    },
    {
      "cell_type": "code",
      "source": [
        "from nltk import ngrams\n",
        "from nltk.tokenize import word_tokenize\n",
        "\n",
        "\n",
        "def n_grams(lines, min_length=2, max_length=4):\n",
        "    tokens = word_tokenize(lines)\n",
        "    ngrams = {n: ngrams(tokens, n) for n in range(min_length, max_length + 1)}\n",
        "    return ngrams"
      ],
      "metadata": {
        "id": "XzJPm_H3nhDF"
      },
      "execution_count": null,
      "outputs": []
    },
    {
      "cell_type": "markdown",
      "source": [
        "# **Extract skills**"
      ],
      "metadata": {
        "id": "ELKvNxoZbI2H"
      }
    },
    {
      "cell_type": "code",
      "source": [
        "import requests\n",
        "import json\n",
        "import numpy as np\n",
        "import pandas as pd\n",
        "from pandas import json_normalize # easy JSON -> pd.DataFrame"
      ],
      "metadata": {
        "id": "TdV57cOxbc8v"
      },
      "execution_count": null,
      "outputs": []
    },
    {
      "cell_type": "code",
      "source": [
        "auth_endpoint = \"https://auth.emsicloud.com/connect/token\" # auth endpoint\n",
        "\n",
        "client_id = \"slgik8pr7quhi6pj\" # replace 'your_client_id' with your client id from your api invite email\n",
        "client_secret = \"LFc8uf8v\" # replace 'your_client_secret' with your client secret from your api invite email\n",
        "scope = \"emsi_open\" # ok to leave as is, this is the scope we will used\n",
        "\n",
        "payload = \"client_id=\" + client_id + \"&client_secret=\" + client_secret + \"&grant_type=client_credentials&scope=\" + scope # set credentials and scope\n",
        "headers = {'content-type': 'application/x-www-form-urlencoded'} # headers for the response\n",
        "access_token = json.loads((requests.request(\"POST\", auth_endpoint, data=payload, headers=headers)).text)['access_token'] # grabs request's text and loads as JSON, then pulls the access token from that"
      ],
      "metadata": {
        "id": "z4CtVqQDbean"
      },
      "execution_count": null,
      "outputs": []
    },
    {
      "cell_type": "code",
      "source": [
        "job_data['Job_description'][1]"
      ],
      "metadata": {
        "id": "MfgpeICOfxBC"
      },
      "execution_count": null,
      "outputs": []
    },
    {
      "cell_type": "code",
      "source": [
        "def extract_skills_list():\n",
        "  all_skills_endpoint = \"https://emsiservices.com/skills/versions/latest/skills\" # List of all skills endpoint\n",
        "  auth = \"Authorization: Bearer \" + access_token # Auth string including access token from above\n",
        "  headers = {'authorization': auth} # headers\n",
        "  response = requests.request(\"GET\", all_skills_endpoint, headers=headers) # response\n",
        "  response = response.json()['data'] # the data\n",
        "\n",
        "  all_skills_df = pd.DataFrame(json_normalize(response)); # Where response is a JSON object drilled down to the level of 'data' key\n",
        "  return all_skills_df\n",
        "\n",
        "skills_list=extract_skills_list()"
      ],
      "metadata": {
        "id": "BqPHx0nUdwUw"
      },
      "execution_count": null,
      "outputs": []
    },
    {
      "cell_type": "code",
      "source": [
        "df=skills_list.loc[:,['name','type.name']]\n",
        "df.to_csv(\"/content/drive/MyDrive/Colab Notebooks/Graduation_project/dataset/all_skills_list.csv\", index=False)"
      ],
      "metadata": {
        "id": "qVTK5xaJKyvJ"
      },
      "execution_count": null,
      "outputs": []
    },
    {
      "cell_type": "code",
      "source": [
        "np.unique(df['type.name'])"
      ],
      "metadata": {
        "colab": {
          "base_uri": "https://localhost:8080/"
        },
        "id": "jPQ75hhxNSVw",
        "outputId": "424d786a-c792-42e8-dd12-bd67babeab85"
      },
      "execution_count": null,
      "outputs": [
        {
          "output_type": "execute_result",
          "data": {
            "text/plain": [
              "array(['Certification', 'Common Skill', 'Specialized Skill'], dtype=object)"
            ]
          },
          "metadata": {},
          "execution_count": 87
        }
      ]
    },
    {
      "cell_type": "code",
      "source": [
        "# Extract skills from a document\n",
        "def extract_skills_from_document(text,confidence_interval):\n",
        "  skills_from_doc_endpoint = \"https://emsiservices.com/skills/versions/latest/extract\"\n",
        "  #text = input(\"Paste the text from which you want to extract skills here: \")\n",
        "  #confidence_interval = str(0.4) #str(input(\".1 to 1, enter the confidence threshold you're willing to accept: \"))\n",
        "  payload = \"{ \\\"text\\\": \\\"... \" + text + \" ...\\\", \\\"confidenceThreshold\\\": \" + confidence_interval + \" }\"\n",
        "\n",
        "  headers = {\n",
        "      'authorization': \"Bearer \" + access_token,\n",
        "      'content-type': \"application/json\"\n",
        "      }\n",
        "\n",
        "  response = requests.request(\"POST\", skills_from_doc_endpoint, data=payload.encode('utf-8'), headers=headers)\n",
        "  print( response.json())\n",
        "  skills_found_in_document_df = pd.DataFrame(json_normalize(response.json()['data'])) # Where response is a JSON object drilled down to the level of 'data' key\n",
        "\n",
        "  return skills_found_in_document_df[\"skill.name\"]#.loc[:,[\"skill.name\",\"skill.id\"]]\n",
        "\n",
        "# extract_skills_from_document(job_data['Job_description'][0])"
      ],
      "metadata": {
        "id": "2HlowI3UeHJx"
      },
      "execution_count": null,
      "outputs": []
    },
    {
      "cell_type": "code",
      "source": [
        "import requests\n",
        "\n",
        "import json"
      ],
      "metadata": {
        "id": "rvViLEVen1kw"
      },
      "execution_count": null,
      "outputs": []
    },
    {
      "cell_type": "code",
      "source": [
        "resume = job_data['Job_description'][9]\n",
        "url = \"https://api.iki.ai/api/skills_extraction/\"\n",
        "\n",
        "\n",
        "\n",
        "payload = {\n",
        "    \"text\":str(resume[0:2000])\n",
        "}\n",
        "\n",
        "\n",
        "headers = {\n",
        "    'Content-Type': 'application/json'\n",
        "}\n",
        "\n",
        "print(len(resume))\n",
        "final_data = json.dumps(payload)\n",
        "\n",
        "r = requests.post(url=url, headers=headers, data=final_data)\n",
        "print(r.json())"
      ],
      "metadata": {
        "colab": {
          "base_uri": "https://localhost:8080/"
        },
        "id": "rxt3n_2HnH1i",
        "outputId": "50be3d22-da37-46ff-8f46-a7d1e81f4bc4"
      },
      "execution_count": null,
      "outputs": [
        {
          "output_type": "stream",
          "name": "stdout",
          "text": [
            "2744\n"
          ]
        }
      ]
    },
    {
      "cell_type": "code",
      "source": [
        "#Import all the dependencies\n",
        "from gensim.models.doc2vec import Doc2Vec, TaggedDocument\n",
        "from nltk.tokenize import word_tokenize"
      ],
      "metadata": {
        "id": "43QEsJt114UY"
      },
      "execution_count": null,
      "outputs": []
    },
    {
      "cell_type": "code",
      "source": [
        "tagged_data = [TaggedDocument(words=word_tokenize(_d.lower()), tags=[str(i)]) for i, _d in enumerate(job_data['Job_description'])]"
      ],
      "metadata": {
        "id": "KxAPcwRhiFqz"
      },
      "execution_count": null,
      "outputs": []
    },
    {
      "cell_type": "code",
      "source": [
        "raw_skills=[\"C++\",\"Python\",\"Aerobic Organisms\"]#word_tokenize(job_data['Job_description'][0])"
      ],
      "metadata": {
        "id": "kUUQmKHzinBR"
      },
      "execution_count": null,
      "outputs": []
    },
    {
      "cell_type": "code",
      "source": [
        "list(extract_skills_list()[\"name\"])"
      ],
      "metadata": {
        "id": "58ZJ66Krlqn_"
      },
      "execution_count": null,
      "outputs": []
    },
    {
      "cell_type": "code",
      "source": [
        "top_technical_skills= list(set(list(extract_skills_list()[\"name\"])).intersection(raw_skills))"
      ],
      "metadata": {
        "id": "YSJimTNhgs5I"
      },
      "execution_count": null,
      "outputs": []
    },
    {
      "cell_type": "code",
      "source": [
        "top_technical_skills"
      ],
      "metadata": {
        "colab": {
          "base_uri": "https://localhost:8080/"
        },
        "id": "U5z55P5pixmn",
        "outputId": "268a0bcb-cb5e-4342-eec8-072ffa290541"
      },
      "execution_count": null,
      "outputs": [
        {
          "output_type": "execute_result",
          "data": {
            "text/plain": [
              "['Aerobic Organisms']"
            ]
          },
          "metadata": {},
          "execution_count": 55
        }
      ]
    },
    {
      "cell_type": "code",
      "source": [
        "extract_skills_from_document(job_data['Job_description'][9],str(0.4))"
      ],
      "metadata": {
        "colab": {
          "base_uri": "https://localhost:8080/",
          "height": 394
        },
        "id": "OKqWjIYN3248",
        "outputId": "a3a2d24b-35ab-4765-f2f4-e67841b7e06c"
      },
      "execution_count": null,
      "outputs": [
        {
          "output_type": "stream",
          "name": "stdout",
          "text": [
            "{'message': \"You have met your monthly limit on skills extraction; please contact us at https://api.emsidata.com/contact if you'd like to raise this limit.\"}\n"
          ]
        },
        {
          "output_type": "error",
          "ename": "KeyError",
          "evalue": "ignored",
          "traceback": [
            "\u001b[0;31m---------------------------------------------------------------------------\u001b[0m",
            "\u001b[0;31mKeyError\u001b[0m                                  Traceback (most recent call last)",
            "\u001b[0;32m<ipython-input-22-7ff85d540106>\u001b[0m in \u001b[0;36m<cell line: 1>\u001b[0;34m()\u001b[0m\n\u001b[0;32m----> 1\u001b[0;31m \u001b[0mextract_skills_from_document\u001b[0m\u001b[0;34m(\u001b[0m\u001b[0mjob_data\u001b[0m\u001b[0;34m[\u001b[0m\u001b[0;34m'Job_description'\u001b[0m\u001b[0;34m]\u001b[0m\u001b[0;34m[\u001b[0m\u001b[0;36m9\u001b[0m\u001b[0;34m]\u001b[0m\u001b[0;34m,\u001b[0m\u001b[0mstr\u001b[0m\u001b[0;34m(\u001b[0m\u001b[0;36m0.4\u001b[0m\u001b[0;34m)\u001b[0m\u001b[0;34m)\u001b[0m\u001b[0;34m\u001b[0m\u001b[0;34m\u001b[0m\u001b[0m\n\u001b[0m",
            "\u001b[0;32m<ipython-input-21-aa691f8855b9>\u001b[0m in \u001b[0;36mextract_skills_from_document\u001b[0;34m(text, confidence_interval)\u001b[0m\n\u001b[1;32m     13\u001b[0m   \u001b[0mresponse\u001b[0m \u001b[0;34m=\u001b[0m \u001b[0mrequests\u001b[0m\u001b[0;34m.\u001b[0m\u001b[0mrequest\u001b[0m\u001b[0;34m(\u001b[0m\u001b[0;34m\"POST\"\u001b[0m\u001b[0;34m,\u001b[0m \u001b[0mskills_from_doc_endpoint\u001b[0m\u001b[0;34m,\u001b[0m \u001b[0mdata\u001b[0m\u001b[0;34m=\u001b[0m\u001b[0mpayload\u001b[0m\u001b[0;34m.\u001b[0m\u001b[0mencode\u001b[0m\u001b[0;34m(\u001b[0m\u001b[0;34m'utf-8'\u001b[0m\u001b[0;34m)\u001b[0m\u001b[0;34m,\u001b[0m \u001b[0mheaders\u001b[0m\u001b[0;34m=\u001b[0m\u001b[0mheaders\u001b[0m\u001b[0;34m)\u001b[0m\u001b[0;34m\u001b[0m\u001b[0;34m\u001b[0m\u001b[0m\n\u001b[1;32m     14\u001b[0m   \u001b[0mprint\u001b[0m\u001b[0;34m(\u001b[0m \u001b[0mresponse\u001b[0m\u001b[0;34m.\u001b[0m\u001b[0mjson\u001b[0m\u001b[0;34m(\u001b[0m\u001b[0;34m)\u001b[0m\u001b[0;34m)\u001b[0m\u001b[0;34m\u001b[0m\u001b[0;34m\u001b[0m\u001b[0m\n\u001b[0;32m---> 15\u001b[0;31m   \u001b[0mskills_found_in_document_df\u001b[0m \u001b[0;34m=\u001b[0m \u001b[0mpd\u001b[0m\u001b[0;34m.\u001b[0m\u001b[0mDataFrame\u001b[0m\u001b[0;34m(\u001b[0m\u001b[0mjson_normalize\u001b[0m\u001b[0;34m(\u001b[0m\u001b[0mresponse\u001b[0m\u001b[0;34m.\u001b[0m\u001b[0mjson\u001b[0m\u001b[0;34m(\u001b[0m\u001b[0;34m)\u001b[0m\u001b[0;34m[\u001b[0m\u001b[0;34m'data'\u001b[0m\u001b[0;34m]\u001b[0m\u001b[0;34m)\u001b[0m\u001b[0;34m)\u001b[0m \u001b[0;31m# Where response is a JSON object drilled down to the level of 'data' key\u001b[0m\u001b[0;34m\u001b[0m\u001b[0;34m\u001b[0m\u001b[0m\n\u001b[0m\u001b[1;32m     16\u001b[0m \u001b[0;34m\u001b[0m\u001b[0m\n\u001b[1;32m     17\u001b[0m   \u001b[0;32mreturn\u001b[0m \u001b[0mskills_found_in_document_df\u001b[0m\u001b[0;34m[\u001b[0m\u001b[0;34m\"skill.name\"\u001b[0m\u001b[0;34m]\u001b[0m\u001b[0;31m#.loc[:,[\"skill.name\",\"skill.id\"]]\u001b[0m\u001b[0;34m\u001b[0m\u001b[0;34m\u001b[0m\u001b[0m\n",
            "\u001b[0;31mKeyError\u001b[0m: 'data'"
          ]
        }
      ]
    },
    {
      "cell_type": "code",
      "source": [
        "max_epochs = 100\n",
        "vec_size = 50\n",
        "alpha = 0.025\n",
        "\n",
        "model = Doc2Vec(vector_size=vec_size,\n",
        "                alpha=alpha,\n",
        "                min_alpha=0.0025,\n",
        "                min_count=1,\n",
        "                dm =1)\n",
        "\n",
        "model.build_vocab(tagged_data)"
      ],
      "metadata": {
        "id": "MmVOjXDZ1phz"
      },
      "execution_count": null,
      "outputs": []
    },
    {
      "cell_type": "code",
      "source": [
        "tagged_data=[]\n",
        "# for i , _d in enumerate(job_description): #job_data['Text']\n",
        "for i,text in enumerate(job_data['Job_description']) :\n",
        "      skill = extract_skills_from_document(text)\n",
        "      print(f\"Skills is {i} : \",list(skill))\n",
        "      tagged_data.append(TaggedDocument(words=skill, tags=[str(i)]))"
      ],
      "metadata": {
        "id": "KXEn6Mdl16gU"
      },
      "execution_count": null,
      "outputs": []
    },
    {
      "cell_type": "code",
      "source": [
        "# Looking up the ID of a skill based on the name, or whether it contains something\n",
        "# Could be useful in coming up with a search function for the end user\n",
        "\n",
        "def find_id_by_skill_name(name_substring):\n",
        "  all_skills_df = extract_skills_list() # pull all skills into a DF\n",
        "\n",
        "  return all_skills_df[all_skills_df['name'].str.contains(name_substring)] # Filter that DF by substring\n",
        "\n",
        "find_id_by_skill_name(\"game\")"
      ],
      "metadata": {
        "colab": {
          "base_uri": "https://localhost:8080/",
          "height": 343
        },
        "id": "_44PMhEchKk5",
        "outputId": "212256c1-9a0f-4ceb-9015-a7638608cd55"
      },
      "execution_count": null,
      "outputs": [
        {
          "output_type": "execute_result",
          "data": {
            "text/plain": [
              "                         id  \\\n",
              "1561   KS1204X6GVG40RP0QKNQ   \n",
              "10570  KS4416162NM64G7KRG62   \n",
              "18828  KS4OUGP2711W4E1GK7LB   \n",
              "19718  KS78E16ZZHZ2APJZR6IV   \n",
              "\n",
              "                                                 infoUrl  \\\n",
              "1561   https://skills.emsidata.com/skills/KS1204X6GVG...   \n",
              "10570  https://skills.emsidata.com/skills/KS4416162NM...   \n",
              "18828  https://skills.emsidata.com/skills/KS4OUGP2711...   \n",
              "19718  https://skills.emsidata.com/skills/KS78E16ZZHZ...   \n",
              "\n",
              "                                            name type.id          type.name  \n",
              "1561   Anterior Cruciate Ligament Reconstruction     ST1  Specialized Skill  \n",
              "10570                          Endgame Tablebase     ST1  Specialized Skill  \n",
              "18828                                   Megamenu     ST1  Specialized Skill  \n",
              "19718                                   Monogame     ST1  Specialized Skill  "
            ],
            "text/html": [
              "\n",
              "  <div id=\"df-2a51ea4e-4bea-4460-afac-1aabe0a07be2\">\n",
              "    <div class=\"colab-df-container\">\n",
              "      <div>\n",
              "<style scoped>\n",
              "    .dataframe tbody tr th:only-of-type {\n",
              "        vertical-align: middle;\n",
              "    }\n",
              "\n",
              "    .dataframe tbody tr th {\n",
              "        vertical-align: top;\n",
              "    }\n",
              "\n",
              "    .dataframe thead th {\n",
              "        text-align: right;\n",
              "    }\n",
              "</style>\n",
              "<table border=\"1\" class=\"dataframe\">\n",
              "  <thead>\n",
              "    <tr style=\"text-align: right;\">\n",
              "      <th></th>\n",
              "      <th>id</th>\n",
              "      <th>infoUrl</th>\n",
              "      <th>name</th>\n",
              "      <th>type.id</th>\n",
              "      <th>type.name</th>\n",
              "    </tr>\n",
              "  </thead>\n",
              "  <tbody>\n",
              "    <tr>\n",
              "      <th>1561</th>\n",
              "      <td>KS1204X6GVG40RP0QKNQ</td>\n",
              "      <td>https://skills.emsidata.com/skills/KS1204X6GVG...</td>\n",
              "      <td>Anterior Cruciate Ligament Reconstruction</td>\n",
              "      <td>ST1</td>\n",
              "      <td>Specialized Skill</td>\n",
              "    </tr>\n",
              "    <tr>\n",
              "      <th>10570</th>\n",
              "      <td>KS4416162NM64G7KRG62</td>\n",
              "      <td>https://skills.emsidata.com/skills/KS4416162NM...</td>\n",
              "      <td>Endgame Tablebase</td>\n",
              "      <td>ST1</td>\n",
              "      <td>Specialized Skill</td>\n",
              "    </tr>\n",
              "    <tr>\n",
              "      <th>18828</th>\n",
              "      <td>KS4OUGP2711W4E1GK7LB</td>\n",
              "      <td>https://skills.emsidata.com/skills/KS4OUGP2711...</td>\n",
              "      <td>Megamenu</td>\n",
              "      <td>ST1</td>\n",
              "      <td>Specialized Skill</td>\n",
              "    </tr>\n",
              "    <tr>\n",
              "      <th>19718</th>\n",
              "      <td>KS78E16ZZHZ2APJZR6IV</td>\n",
              "      <td>https://skills.emsidata.com/skills/KS78E16ZZHZ...</td>\n",
              "      <td>Monogame</td>\n",
              "      <td>ST1</td>\n",
              "      <td>Specialized Skill</td>\n",
              "    </tr>\n",
              "  </tbody>\n",
              "</table>\n",
              "</div>\n",
              "      <button class=\"colab-df-convert\" onclick=\"convertToInteractive('df-2a51ea4e-4bea-4460-afac-1aabe0a07be2')\"\n",
              "              title=\"Convert this dataframe to an interactive table.\"\n",
              "              style=\"display:none;\">\n",
              "        \n",
              "  <svg xmlns=\"http://www.w3.org/2000/svg\" height=\"24px\"viewBox=\"0 0 24 24\"\n",
              "       width=\"24px\">\n",
              "    <path d=\"M0 0h24v24H0V0z\" fill=\"none\"/>\n",
              "    <path d=\"M18.56 5.44l.94 2.06.94-2.06 2.06-.94-2.06-.94-.94-2.06-.94 2.06-2.06.94zm-11 1L8.5 8.5l.94-2.06 2.06-.94-2.06-.94L8.5 2.5l-.94 2.06-2.06.94zm10 10l.94 2.06.94-2.06 2.06-.94-2.06-.94-.94-2.06-.94 2.06-2.06.94z\"/><path d=\"M17.41 7.96l-1.37-1.37c-.4-.4-.92-.59-1.43-.59-.52 0-1.04.2-1.43.59L10.3 9.45l-7.72 7.72c-.78.78-.78 2.05 0 2.83L4 21.41c.39.39.9.59 1.41.59.51 0 1.02-.2 1.41-.59l7.78-7.78 2.81-2.81c.8-.78.8-2.07 0-2.86zM5.41 20L4 18.59l7.72-7.72 1.47 1.35L5.41 20z\"/>\n",
              "  </svg>\n",
              "      </button>\n",
              "      \n",
              "  <style>\n",
              "    .colab-df-container {\n",
              "      display:flex;\n",
              "      flex-wrap:wrap;\n",
              "      gap: 12px;\n",
              "    }\n",
              "\n",
              "    .colab-df-convert {\n",
              "      background-color: #E8F0FE;\n",
              "      border: none;\n",
              "      border-radius: 50%;\n",
              "      cursor: pointer;\n",
              "      display: none;\n",
              "      fill: #1967D2;\n",
              "      height: 32px;\n",
              "      padding: 0 0 0 0;\n",
              "      width: 32px;\n",
              "    }\n",
              "\n",
              "    .colab-df-convert:hover {\n",
              "      background-color: #E2EBFA;\n",
              "      box-shadow: 0px 1px 2px rgba(60, 64, 67, 0.3), 0px 1px 3px 1px rgba(60, 64, 67, 0.15);\n",
              "      fill: #174EA6;\n",
              "    }\n",
              "\n",
              "    [theme=dark] .colab-df-convert {\n",
              "      background-color: #3B4455;\n",
              "      fill: #D2E3FC;\n",
              "    }\n",
              "\n",
              "    [theme=dark] .colab-df-convert:hover {\n",
              "      background-color: #434B5C;\n",
              "      box-shadow: 0px 1px 3px 1px rgba(0, 0, 0, 0.15);\n",
              "      filter: drop-shadow(0px 1px 2px rgba(0, 0, 0, 0.3));\n",
              "      fill: #FFFFFF;\n",
              "    }\n",
              "  </style>\n",
              "\n",
              "      <script>\n",
              "        const buttonEl =\n",
              "          document.querySelector('#df-2a51ea4e-4bea-4460-afac-1aabe0a07be2 button.colab-df-convert');\n",
              "        buttonEl.style.display =\n",
              "          google.colab.kernel.accessAllowed ? 'block' : 'none';\n",
              "\n",
              "        async function convertToInteractive(key) {\n",
              "          const element = document.querySelector('#df-2a51ea4e-4bea-4460-afac-1aabe0a07be2');\n",
              "          const dataTable =\n",
              "            await google.colab.kernel.invokeFunction('convertToInteractive',\n",
              "                                                     [key], {});\n",
              "          if (!dataTable) return;\n",
              "\n",
              "          const docLinkHtml = 'Like what you see? Visit the ' +\n",
              "            '<a target=\"_blank\" href=https://colab.research.google.com/notebooks/data_table.ipynb>data table notebook</a>'\n",
              "            + ' to learn more about interactive tables.';\n",
              "          element.innerHTML = '';\n",
              "          dataTable['output_type'] = 'display_data';\n",
              "          await google.colab.output.renderOutput(dataTable, element);\n",
              "          const docLink = document.createElement('div');\n",
              "          docLink.innerHTML = docLinkHtml;\n",
              "          element.appendChild(docLink);\n",
              "        }\n",
              "      </script>\n",
              "    </div>\n",
              "  </div>\n",
              "  "
            ]
          },
          "metadata": {},
          "execution_count": 18
        }
      ]
    },
    {
      "cell_type": "code",
      "source": [
        "# Skills IDs to find related skills to:\n",
        "# Python (Programming Language): KS125LS6N7WP4S6SFTCK\n",
        "# Pandas (Python Package): KSGWPO6DSN70GRY20JFT\n",
        "\n",
        "\n",
        "url = \"https://emsiservices.com/skills/versions/latest/related\"\n",
        "\n",
        "payload = \"{ \\\"ids\\\": [ \\\"KS125LS6N7WP4S6SFTCK\\\", \\\"KSGWPO6DSN70GRY20JFT\\\" ] }\"\n",
        "headers = {\n",
        "    'authorization': \"Bearer \" + access_token,\n",
        "    'content-type': \"application/json\"\n",
        "    }\n",
        "\n",
        "response = requests.request(\"POST\", url, data=payload, headers=headers)\n",
        "related_skills_df = pd.DataFrame(json_normalize(response.json()['data']))\n",
        "\n",
        "related_skills_df"
      ],
      "metadata": {
        "colab": {
          "base_uri": "https://localhost:8080/",
          "height": 670
        },
        "id": "fHZcTRQjhxoV",
        "outputId": "48aa80a6-9451-4475-f0e7-5dfc3755fa58"
      },
      "execution_count": null,
      "outputs": [
        {
          "output_type": "execute_result",
          "data": {
            "text/plain": [
              "                     id                                            infoUrl  \\\n",
              "0  KS120D96FHL88PZDKZKH  https://skills.emsidata.com/skills/KS120D96FHL...   \n",
              "1  KS1200364C9C1LK3V5Q1  https://skills.emsidata.com/skills/KS1200364C9...   \n",
              "2  KS1219W70LY1GXZDSKW5  https://skills.emsidata.com/skills/KS1219W70LY...   \n",
              "3  KS7LO8P3MXB93R3C9RWL  https://skills.emsidata.com/skills/KS7LO8P3MXB...   \n",
              "4  KS122VT6S2JJ5C5D80NF  https://skills.emsidata.com/skills/KS122VT6S2J...   \n",
              "5  KS1261Z68KSKR1X31KS3  https://skills.emsidata.com/skills/KS1261Z68KS...   \n",
              "6  KS123GK6Z30G7QTFCY4N  https://skills.emsidata.com/skills/KS123GK6Z30...   \n",
              "7  KS124DQ6JX0NX9DBFDM8  https://skills.emsidata.com/skills/KS124DQ6JX0...   \n",
              "8  KS7G0C36YW29VS8KPC05  https://skills.emsidata.com/skills/KS7G0C36YW2...   \n",
              "9  KS440Y975RD841M02V3S  https://skills.emsidata.com/skills/KS440Y975RD...   \n",
              "\n",
              "                          name type.id          type.name  \n",
              "0                   Algorithms     ST1  Specialized Skill  \n",
              "1     C (Programming Language)     ST1  Specialized Skill  \n",
              "2   C++ (Programming Language)     ST1  Specialized Skill  \n",
              "3                 Data Science     ST1  Specialized Skill  \n",
              "4                        Linux     ST1  Specialized Skill  \n",
              "5             Machine Learning     ST1  Specialized Skill  \n",
              "6  Perl (Programming Language)     ST1  Specialized Skill  \n",
              "7     R (Programming Language)     ST1  Specialized Skill  \n",
              "8                    Scripting     ST1  Specialized Skill  \n",
              "9                   Statistics     ST1  Specialized Skill  "
            ],
            "text/html": [
              "\n",
              "  <div id=\"df-0d36ec6b-4661-4858-b4d9-35fe34760de1\">\n",
              "    <div class=\"colab-df-container\">\n",
              "      <div>\n",
              "<style scoped>\n",
              "    .dataframe tbody tr th:only-of-type {\n",
              "        vertical-align: middle;\n",
              "    }\n",
              "\n",
              "    .dataframe tbody tr th {\n",
              "        vertical-align: top;\n",
              "    }\n",
              "\n",
              "    .dataframe thead th {\n",
              "        text-align: right;\n",
              "    }\n",
              "</style>\n",
              "<table border=\"1\" class=\"dataframe\">\n",
              "  <thead>\n",
              "    <tr style=\"text-align: right;\">\n",
              "      <th></th>\n",
              "      <th>id</th>\n",
              "      <th>infoUrl</th>\n",
              "      <th>name</th>\n",
              "      <th>type.id</th>\n",
              "      <th>type.name</th>\n",
              "    </tr>\n",
              "  </thead>\n",
              "  <tbody>\n",
              "    <tr>\n",
              "      <th>0</th>\n",
              "      <td>KS120D96FHL88PZDKZKH</td>\n",
              "      <td>https://skills.emsidata.com/skills/KS120D96FHL...</td>\n",
              "      <td>Algorithms</td>\n",
              "      <td>ST1</td>\n",
              "      <td>Specialized Skill</td>\n",
              "    </tr>\n",
              "    <tr>\n",
              "      <th>1</th>\n",
              "      <td>KS1200364C9C1LK3V5Q1</td>\n",
              "      <td>https://skills.emsidata.com/skills/KS1200364C9...</td>\n",
              "      <td>C (Programming Language)</td>\n",
              "      <td>ST1</td>\n",
              "      <td>Specialized Skill</td>\n",
              "    </tr>\n",
              "    <tr>\n",
              "      <th>2</th>\n",
              "      <td>KS1219W70LY1GXZDSKW5</td>\n",
              "      <td>https://skills.emsidata.com/skills/KS1219W70LY...</td>\n",
              "      <td>C++ (Programming Language)</td>\n",
              "      <td>ST1</td>\n",
              "      <td>Specialized Skill</td>\n",
              "    </tr>\n",
              "    <tr>\n",
              "      <th>3</th>\n",
              "      <td>KS7LO8P3MXB93R3C9RWL</td>\n",
              "      <td>https://skills.emsidata.com/skills/KS7LO8P3MXB...</td>\n",
              "      <td>Data Science</td>\n",
              "      <td>ST1</td>\n",
              "      <td>Specialized Skill</td>\n",
              "    </tr>\n",
              "    <tr>\n",
              "      <th>4</th>\n",
              "      <td>KS122VT6S2JJ5C5D80NF</td>\n",
              "      <td>https://skills.emsidata.com/skills/KS122VT6S2J...</td>\n",
              "      <td>Linux</td>\n",
              "      <td>ST1</td>\n",
              "      <td>Specialized Skill</td>\n",
              "    </tr>\n",
              "    <tr>\n",
              "      <th>5</th>\n",
              "      <td>KS1261Z68KSKR1X31KS3</td>\n",
              "      <td>https://skills.emsidata.com/skills/KS1261Z68KS...</td>\n",
              "      <td>Machine Learning</td>\n",
              "      <td>ST1</td>\n",
              "      <td>Specialized Skill</td>\n",
              "    </tr>\n",
              "    <tr>\n",
              "      <th>6</th>\n",
              "      <td>KS123GK6Z30G7QTFCY4N</td>\n",
              "      <td>https://skills.emsidata.com/skills/KS123GK6Z30...</td>\n",
              "      <td>Perl (Programming Language)</td>\n",
              "      <td>ST1</td>\n",
              "      <td>Specialized Skill</td>\n",
              "    </tr>\n",
              "    <tr>\n",
              "      <th>7</th>\n",
              "      <td>KS124DQ6JX0NX9DBFDM8</td>\n",
              "      <td>https://skills.emsidata.com/skills/KS124DQ6JX0...</td>\n",
              "      <td>R (Programming Language)</td>\n",
              "      <td>ST1</td>\n",
              "      <td>Specialized Skill</td>\n",
              "    </tr>\n",
              "    <tr>\n",
              "      <th>8</th>\n",
              "      <td>KS7G0C36YW29VS8KPC05</td>\n",
              "      <td>https://skills.emsidata.com/skills/KS7G0C36YW2...</td>\n",
              "      <td>Scripting</td>\n",
              "      <td>ST1</td>\n",
              "      <td>Specialized Skill</td>\n",
              "    </tr>\n",
              "    <tr>\n",
              "      <th>9</th>\n",
              "      <td>KS440Y975RD841M02V3S</td>\n",
              "      <td>https://skills.emsidata.com/skills/KS440Y975RD...</td>\n",
              "      <td>Statistics</td>\n",
              "      <td>ST1</td>\n",
              "      <td>Specialized Skill</td>\n",
              "    </tr>\n",
              "  </tbody>\n",
              "</table>\n",
              "</div>\n",
              "      <button class=\"colab-df-convert\" onclick=\"convertToInteractive('df-0d36ec6b-4661-4858-b4d9-35fe34760de1')\"\n",
              "              title=\"Convert this dataframe to an interactive table.\"\n",
              "              style=\"display:none;\">\n",
              "        \n",
              "  <svg xmlns=\"http://www.w3.org/2000/svg\" height=\"24px\"viewBox=\"0 0 24 24\"\n",
              "       width=\"24px\">\n",
              "    <path d=\"M0 0h24v24H0V0z\" fill=\"none\"/>\n",
              "    <path d=\"M18.56 5.44l.94 2.06.94-2.06 2.06-.94-2.06-.94-.94-2.06-.94 2.06-2.06.94zm-11 1L8.5 8.5l.94-2.06 2.06-.94-2.06-.94L8.5 2.5l-.94 2.06-2.06.94zm10 10l.94 2.06.94-2.06 2.06-.94-2.06-.94-.94-2.06-.94 2.06-2.06.94z\"/><path d=\"M17.41 7.96l-1.37-1.37c-.4-.4-.92-.59-1.43-.59-.52 0-1.04.2-1.43.59L10.3 9.45l-7.72 7.72c-.78.78-.78 2.05 0 2.83L4 21.41c.39.39.9.59 1.41.59.51 0 1.02-.2 1.41-.59l7.78-7.78 2.81-2.81c.8-.78.8-2.07 0-2.86zM5.41 20L4 18.59l7.72-7.72 1.47 1.35L5.41 20z\"/>\n",
              "  </svg>\n",
              "      </button>\n",
              "      \n",
              "  <style>\n",
              "    .colab-df-container {\n",
              "      display:flex;\n",
              "      flex-wrap:wrap;\n",
              "      gap: 12px;\n",
              "    }\n",
              "\n",
              "    .colab-df-convert {\n",
              "      background-color: #E8F0FE;\n",
              "      border: none;\n",
              "      border-radius: 50%;\n",
              "      cursor: pointer;\n",
              "      display: none;\n",
              "      fill: #1967D2;\n",
              "      height: 32px;\n",
              "      padding: 0 0 0 0;\n",
              "      width: 32px;\n",
              "    }\n",
              "\n",
              "    .colab-df-convert:hover {\n",
              "      background-color: #E2EBFA;\n",
              "      box-shadow: 0px 1px 2px rgba(60, 64, 67, 0.3), 0px 1px 3px 1px rgba(60, 64, 67, 0.15);\n",
              "      fill: #174EA6;\n",
              "    }\n",
              "\n",
              "    [theme=dark] .colab-df-convert {\n",
              "      background-color: #3B4455;\n",
              "      fill: #D2E3FC;\n",
              "    }\n",
              "\n",
              "    [theme=dark] .colab-df-convert:hover {\n",
              "      background-color: #434B5C;\n",
              "      box-shadow: 0px 1px 3px 1px rgba(0, 0, 0, 0.15);\n",
              "      filter: drop-shadow(0px 1px 2px rgba(0, 0, 0, 0.3));\n",
              "      fill: #FFFFFF;\n",
              "    }\n",
              "  </style>\n",
              "\n",
              "      <script>\n",
              "        const buttonEl =\n",
              "          document.querySelector('#df-0d36ec6b-4661-4858-b4d9-35fe34760de1 button.colab-df-convert');\n",
              "        buttonEl.style.display =\n",
              "          google.colab.kernel.accessAllowed ? 'block' : 'none';\n",
              "\n",
              "        async function convertToInteractive(key) {\n",
              "          const element = document.querySelector('#df-0d36ec6b-4661-4858-b4d9-35fe34760de1');\n",
              "          const dataTable =\n",
              "            await google.colab.kernel.invokeFunction('convertToInteractive',\n",
              "                                                     [key], {});\n",
              "          if (!dataTable) return;\n",
              "\n",
              "          const docLinkHtml = 'Like what you see? Visit the ' +\n",
              "            '<a target=\"_blank\" href=https://colab.research.google.com/notebooks/data_table.ipynb>data table notebook</a>'\n",
              "            + ' to learn more about interactive tables.';\n",
              "          element.innerHTML = '';\n",
              "          dataTable['output_type'] = 'display_data';\n",
              "          await google.colab.output.renderOutput(dataTable, element);\n",
              "          const docLink = document.createElement('div');\n",
              "          docLink.innerHTML = docLinkHtml;\n",
              "          element.appendChild(docLink);\n",
              "        }\n",
              "      </script>\n",
              "    </div>\n",
              "  </div>\n",
              "  "
            ]
          },
          "metadata": {},
          "execution_count": 16
        }
      ]
    }
  ]
}